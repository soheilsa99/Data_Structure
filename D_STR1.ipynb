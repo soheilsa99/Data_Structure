{
 "cells": [
  {
   "cell_type": "markdown",
   "source": [
    "we learn the Recursion for Data structure course in university Ardakan\n",
    "\n",
    "Advantages of using recursion:\n",
    "    * A complicated function can be split down into smaller sub-problems utilizing recursion.\n",
    "    * Sequence creation is simpler through recursion than utilizing any nested iteration.\n",
    "    * Recursive functions render the code look simple and effective.\n",
    "\n",
    "Disadvantages of using recursion\n",
    "    * A lot of memory and time is taken through recursive calls which makes it\n",
    "      expensive for use.\n",
    "    * Recursive functions are challenging to debug.\n",
    "    * The reasoning behind recursion can sometimes be tough to think through."
   ],
   "metadata": {
    "collapsed": false
   },
   "id": "138e8030c9fa25c6"
  },
  {
   "cell_type": "code",
   "execution_count": 1,
   "id": "initial_id",
   "metadata": {
    "collapsed": true,
    "ExecuteTime": {
     "end_time": "2023-10-15T04:34:54.222012Z",
     "start_time": "2023-10-15T04:34:48.795692400Z"
    }
   },
   "outputs": [
    {
     "name": "stdout",
     "output_type": "stream",
     "text": [
      "Fibonacci series members are :\n",
      "0\n",
      "1\n",
      "1\n",
      "2\n",
      "3\n"
     ]
    }
   ],
   "source": [
    "def recursive_fibonacci(n):\n",
    "    \"\"\"\n",
    "    Program to print the fibonacci series upto n_terms\n",
    "    :param n: the number of element that user enters\n",
    "    :return: the value of each element in fibonacci series\n",
    "    \"\"\"\n",
    "    if n <= 1:\n",
    "        return n\n",
    "    else:\n",
    "        return recursive_fibonacci(n - 1) + recursive_fibonacci(n - 2)\n",
    "\n",
    "\n",
    "n_terms = int(input(\"please enter the number : \"))\n",
    "# check if the number of terms is valid\n",
    "if n_terms <= 0:\n",
    "    print(\"Invalid input ! Please input a positive value\")\n",
    "else:\n",
    "    print(\"Fibonacci series members are :\")\n",
    "for i in range(n_terms):\n",
    "    print(recursive_fibonacci(i))"
   ]
  },
  {
   "cell_type": "code",
   "execution_count": null,
   "outputs": [],
   "source": [
    "def r_factorial(n):\n",
    "    \"\"\"\n",
    "    target : print factorial of a number\n",
    "    :param n: user enter  \n",
    "    :return: The product of factorial\n",
    "    \"\"\"\n",
    "    if n == 1:\n",
    "        return n\n",
    "    else:\n",
    "        return n * r_factorial(n - 1)\n",
    "\n",
    "\n",
    "num = int(input(\"pleas enter number :\"))\n",
    "\n",
    "# check if the input is valid or not\n",
    "if num < 0:\n",
    "    print(\"Invalid input ! Please enter a positive number.\")\n",
    "elif num == 0:\n",
    "    print(\"Factorial of number 0 is 1\")\n",
    "else:\n",
    "    print(\"Factorial of number\", num, \"equal to \", r_factorial(num))"
   ],
   "metadata": {
    "collapsed": false,
    "is_executing": true
   },
   "id": "605a418ec27bbe0b"
  },
  {
   "cell_type": "code",
   "execution_count": 3,
   "outputs": [
    {
     "name": "stdout",
     "output_type": "stream",
     "text": [
      "The multiplication of 7 * 6 equal to 42\n"
     ]
    }
   ],
   "source": [
    "def multiply(x, y):\n",
    "    \"\"\"\n",
    "    function for multiplication of two variable number\n",
    "    :param x: first number\n",
    "    :param y: second number\n",
    "    :return: the multiplication\n",
    "    \"\"\"\n",
    "    if y == 0:\n",
    "        return 0\n",
    "    elif y > 0:\n",
    "        return x + multiply(x, y-1)\n",
    "    else:\n",
    "        return multiply(x, -y)\n",
    "\n",
    "a = int(input(\"Enter the first number : \"))\n",
    "b = int(input(\"Enter the second number : \"))\n",
    "result = multiply(a, b)\n",
    "print(f\"The multiplication of {a} * {b} equal to {result}\")"
   ],
   "metadata": {
    "collapsed": false,
    "ExecuteTime": {
     "end_time": "2023-10-13T07:40:50.288763300Z",
     "start_time": "2023-10-13T07:40:45.644148500Z"
    }
   },
   "id": "e4d63c185dec452d"
  },
  {
   "cell_type": "code",
   "execution_count": 2,
   "outputs": [],
   "source": [],
   "metadata": {
    "collapsed": false,
    "ExecuteTime": {
     "end_time": "2023-10-13T07:40:42.543621200Z",
     "start_time": "2023-10-13T07:40:42.527541100Z"
    }
   },
   "id": "4b04a034c45fee38"
  },
  {
   "cell_type": "code",
   "execution_count": null,
   "outputs": [],
   "source": [],
   "metadata": {
    "collapsed": false
   },
   "id": "94d8ea2ffa091666"
  }
 ],
 "metadata": {
  "kernelspec": {
   "display_name": "Python 3",
   "language": "python",
   "name": "python3"
  },
  "language_info": {
   "codemirror_mode": {
    "name": "ipython",
    "version": 2
   },
   "file_extension": ".py",
   "mimetype": "text/x-python",
   "name": "python",
   "nbconvert_exporter": "python",
   "pygments_lexer": "ipython2",
   "version": "2.7.6"
  }
 },
 "nbformat": 4,
 "nbformat_minor": 5
}

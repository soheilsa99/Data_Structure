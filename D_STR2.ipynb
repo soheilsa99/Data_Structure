{
 "cells": [
  {
   "cell_type": "markdown",
   "id": "75db11dff1f9d3ef",
   "metadata": {},
   "source": [
    "Time complexity\n",
    "BIG O Notation"
   ]
  },
  {
   "cell_type": "markdown",
   "source": [
    "Time complexity is analysed for : \n",
    "* very large input size\n",
    "* worst case scenario"
   ],
   "metadata": {
    "collapsed": false
   },
   "id": "b94df100e5851cb7"
  },
  {
   "cell_type": "code",
   "execution_count": 53,
   "outputs": [],
   "source": [
    "def multi_function(x):\n",
    "    return ((x + 2) ** 10) * ((x + 3) ** 10)"
   ],
   "metadata": {
    "collapsed": false,
    "ExecuteTime": {
     "end_time": "2023-10-28T06:20:30.793359Z",
     "start_time": "2023-10-28T06:20:30.778895300Z"
    }
   },
   "id": "1bed61efc8abd305"
  },
  {
   "cell_type": "code",
   "execution_count": 54,
   "id": "b28d285dbc6729e4",
   "metadata": {
    "ExecuteTime": {
     "end_time": "2023-10-28T06:20:31.545405500Z",
     "start_time": "2023-10-28T06:20:31.536397200Z"
    }
   },
   "outputs": [
    {
     "name": "stdout",
     "output_type": "stream",
     "text": [
      "amount of answer is  259374246010000000000\n",
      "0.0\n"
     ]
    }
   ],
   "source": [
    "import time\n",
    "start = time.time()\n",
    "result = multi_function(8)\n",
    "print('amount of answer is ',result)\n",
    "end = time.time()\n",
    "print(end-start)"
   ]
  },
  {
   "cell_type": "code",
   "execution_count": 57,
   "id": "861f176449514f61",
   "metadata": {
    "ExecuteTime": {
     "end_time": "2023-10-28T06:28:57.157858600Z",
     "start_time": "2023-10-28T06:28:57.146327900Z"
    }
   },
   "outputs": [
    {
     "name": "stdout",
     "output_type": "stream",
     "text": [
      "amount of answer is  259374246010000000000\n",
      "0.0\n"
     ]
    }
   ],
   "source": [
    "start = time.time()\n",
    "multi_function(x = 444555)\n",
    "print('amount of answer is ',result)\n",
    "end = time.time()\n",
    "print(end-start)"
   ]
  },
  {
   "cell_type": "markdown",
   "source": [
    "This method is not suitable for program with O(1)"
   ],
   "metadata": {
    "collapsed": false
   },
   "id": "74a05d047894049c"
  },
  {
   "cell_type": "markdown",
   "source": [
    "time complexity in for one loop is O(n)"
   ],
   "metadata": {
    "collapsed": false
   },
   "id": "4ff7c72116e67c91"
  },
  {
   "cell_type": "code",
   "execution_count": 60,
   "outputs": [
    {
     "name": "stdout",
     "output_type": "stream",
     "text": [
      "4999999949500500\n",
      "13.20642375946045\n"
     ]
    }
   ],
   "source": [
    "#singl loop\n",
    "\n",
    "start = time.time()\n",
    "x = 0\n",
    "for i in range(1000,100000000):\n",
    "    x += i \n",
    "print(x)\n",
    "end = time.time()\n",
    "print(f'time: {end-start} seconds')"
   ],
   "metadata": {
    "collapsed": false,
    "ExecuteTime": {
     "end_time": "2023-10-28T06:39:16.910747100Z",
     "start_time": "2023-10-28T06:39:03.693034500Z"
    }
   },
   "id": "f588629e4b6e09fa"
  },
  {
   "cell_type": "markdown",
   "source": [
    "time complexity in for Nested loop is O(n**2)"
   ],
   "metadata": {
    "collapsed": false
   },
   "id": "d4bee54f28a52252"
  },
  {
   "cell_type": "code",
   "execution_count": 62,
   "outputs": [
    {
     "name": "stdout",
     "output_type": "stream",
     "text": [
      "time: 17.077645778656006 seconds\n"
     ]
    }
   ],
   "source": [
    "start = time.time()\n",
    "# we decrease the value of the variable in loop because nested loop is so heavy\n",
    "for i in range(1000, 10000):\n",
    "    for j in range(3000, 30000):\n",
    "        m = i+j\n",
    "end = time.time()\n",
    "print(f'time: {end-start} seconds')"
   ],
   "metadata": {
    "collapsed": false,
    "ExecuteTime": {
     "end_time": "2023-10-28T06:54:07.092761700Z",
     "start_time": "2023-10-28T06:53:50.021611900Z"
    }
   },
   "id": "5dc57a6005be6d01"
  },
  {
   "cell_type": "markdown",
   "source": [
    "else and if statements \n",
    "if(condition):\n",
    "    O(n)\n",
    "else:\n",
    "    o(n**2)"
   ],
   "metadata": {
    "collapsed": false
   },
   "id": "c4999bd5bb2c80c1"
  },
  {
   "cell_type": "markdown",
   "source": [
    "def ex_func(_list):\n",
    "    _max = 0\n",
    "    for i in range(len(_list)):\n",
    "        if _list[i] > _list[max]:\n",
    "            _max = i\n",
    "    return  _list[_max]\n",
    "    \n",
    "ex_func([2 ,4 ,45 ,3 ,-5 ,12 ,-21 ,0 ,-12 ,4 ])\n",
    "\n",
    "\n",
    "Big O Notation in this function is :\n",
    "1(value to variable) + (a*n)+b(bias) +1(return) \n",
    "O Notation in this program is O(n)"
   ],
   "metadata": {
    "collapsed": false
   },
   "id": "c4e00a21562f448f"
  },
  {
   "cell_type": "markdown",
   "source": [
    "def my-function(_list)\n",
    "    length = len(_list)\n",
    "    for i in range(length-1):\n",
    "        for j in range(i+1, length):\n",
    "            if _list[i] == _list[j]:\n",
    "                print(f\"found : {_list[i]}\"\n",
    "                \n",
    "ex_func([2 ,4 ,45 ,3 ,-5 ,12 ,-21 ,0 ,-12 ,4 ])\n",
    "\n",
    "Big O Notation in this function is :\n",
    "n * n\n",
    "O Notation in this program is O(n)**2"
   ],
   "metadata": {
    "collapsed": false
   },
   "id": "39e24ac78d2ee2d6"
  },
  {
   "cell_type": "markdown",
   "source": [
    "tip ! we can find best and average and worst time of program but we find worst time to check"
   ],
   "metadata": {
    "collapsed": false
   },
   "id": "45eb34f1d5cc7b65"
  },
  {
   "cell_type": "markdown",
   "source": [
    "SPACE COMPLEXITY\n",
    "* Amount of space that variable use , for ex integer value use 4 bit\n",
    "* ex) \n",
    "r = 0 , b = 5 , c = 6 , e = 6 \n",
    "a = b + c + e + r\n",
    "we need 5 * 4 = 20 bit space"
   ],
   "metadata": {
    "collapsed": false
   },
   "id": "15222415942eb93"
  }
 ],
 "metadata": {
  "kernelspec": {
   "display_name": "Python 3 (ipykernel)",
   "language": "python",
   "name": "python3"
  },
  "language_info": {
   "codemirror_mode": {
    "name": "ipython",
    "version": 2
   },
   "file_extension": ".py",
   "mimetype": "text/x-python",
   "name": "python",
   "nbconvert_exporter": "python",
   "pygments_lexer": "ipython2",
   "version": "2.7.6"
  }
 },
 "nbformat": 4,
 "nbformat_minor": 5
}

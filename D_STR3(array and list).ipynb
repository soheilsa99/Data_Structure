{
 "cells": [
  {
   "cell_type": "markdown",
   "source": [
    "array and list\n",
    "* array is a data structure that stores a collection of elements of the same data type in contiguous memory locations. Each element in an array is identified by an index or a subscript.\n",
    "* list is a data structure that stores a collection of elements of different data types.\n",
    "* Unlike arrays, lists are dynamic and can grow or shrink in size during runtime\n",
    "* Lists are used when the number of elements to be stored is not known beforehand or changes frequently\n",
    "* All data that are used in the array should have the same dimension unlike a list \n",
    " for example : [[2, 4], [5, 4]] and [[3], [5, 4, 5], [4, 8, 9, 12]]\n",
    "* array has more speed than list (RAM should search in lots of place in memory to find a value but in array value save with good order)\n",
    "* Big O in the list is 1\n"
   ],
   "metadata": {
    "collapsed": false
   },
   "id": "e92204ce077a894e"
  },
  {
   "cell_type": "code",
   "execution_count": 1,
   "outputs": [],
   "source": [
    "import numpy as np"
   ],
   "metadata": {
    "collapsed": false,
    "ExecuteTime": {
     "end_time": "2023-11-08T11:05:53.145449200Z",
     "start_time": "2023-11-08T11:05:53.020392700Z"
    }
   },
   "id": "initial_id"
  },
  {
   "cell_type": "code",
   "execution_count": 2,
   "outputs": [
    {
     "name": "stdout",
     "output_type": "stream",
     "text": [
      "[3, 3, 4, 6, 9]\n"
     ]
    }
   ],
   "source": [
    "list1 = [3, 3, 4, 6 ,9]\n",
    "print(list1)"
   ],
   "metadata": {
    "collapsed": false,
    "ExecuteTime": {
     "end_time": "2023-11-08T11:05:54.666081600Z",
     "start_time": "2023-11-08T11:05:54.649761900Z"
    }
   },
   "id": "98b15e0de4aa76e0"
  },
  {
   "cell_type": "code",
   "execution_count": 3,
   "outputs": [
    {
     "name": "stdout",
     "output_type": "stream",
     "text": [
      "[3 3 4 6 9]\n"
     ]
    }
   ],
   "source": [
    "array = np.array(list1)\n",
    "print(array)"
   ],
   "metadata": {
    "collapsed": false,
    "ExecuteTime": {
     "end_time": "2023-11-08T11:05:55.452609800Z",
     "start_time": "2023-11-08T11:05:55.438827600Z"
    }
   },
   "id": "93f9d53928b9d4e2"
  },
  {
   "cell_type": "markdown",
   "source": [
    "We can see different between array and list print result (in 2 last cell)"
   ],
   "metadata": {
    "collapsed": false
   },
   "id": "204694f1d9ca5779"
  },
  {
   "cell_type": "code",
   "execution_count": 4,
   "outputs": [
    {
     "name": "stdout",
     "output_type": "stream",
     "text": [
      "<class 'list'>\n",
      "<class 'numpy.ndarray'>\n"
     ]
    }
   ],
   "source": [
    "print(type(list1))\n",
    "print(type(array))"
   ],
   "metadata": {
    "collapsed": false,
    "ExecuteTime": {
     "end_time": "2023-11-08T11:05:56.862257700Z",
     "start_time": "2023-11-08T11:05:56.847760200Z"
    }
   },
   "id": "3a8c884a21677de2"
  },
  {
   "cell_type": "markdown",
   "source": [
    "Array is kind of data structure with  iterable condition and index base \n",
    "point!:Access to every  array and listing houses is possible.  "
   ],
   "metadata": {
    "collapsed": false
   },
   "id": "fd5973bebdccdb4"
  },
  {
   "cell_type": "code",
   "execution_count": 5,
   "outputs": [
    {
     "name": "stdout",
     "output_type": "stream",
     "text": [
      "9\n"
     ]
    }
   ],
   "source": [
    "print(list1[4])"
   ],
   "metadata": {
    "collapsed": false,
    "ExecuteTime": {
     "end_time": "2023-11-08T11:05:59.212670400Z",
     "start_time": "2023-11-08T11:05:59.194789400Z"
    }
   },
   "id": "d3b1dad82e5cd80f"
  },
  {
   "cell_type": "code",
   "execution_count": 6,
   "outputs": [
    {
     "name": "stdout",
     "output_type": "stream",
     "text": [
      "9\n"
     ]
    }
   ],
   "source": [
    "print(array[4])"
   ],
   "metadata": {
    "collapsed": false,
    "ExecuteTime": {
     "end_time": "2023-11-08T11:06:01.080942900Z",
     "start_time": "2023-11-08T11:06:01.058907300Z"
    }
   },
   "id": "d3a3b0249c8972b6"
  },
  {
   "cell_type": "code",
   "execution_count": 7,
   "outputs": [
    {
     "data": {
      "text/plain": "5"
     },
     "execution_count": 7,
     "metadata": {},
     "output_type": "execute_result"
    }
   ],
   "source": [
    "array.size"
   ],
   "metadata": {
    "collapsed": false,
    "ExecuteTime": {
     "end_time": "2023-11-08T11:06:01.844644Z",
     "start_time": "2023-11-08T11:06:01.812939800Z"
    }
   },
   "id": "179569b056f1d315"
  },
  {
   "cell_type": "markdown",
   "source": [
    "We can save on list in on house of list"
   ],
   "metadata": {
    "collapsed": false
   },
   "id": "b44cfadcd43dafd0"
  },
  {
   "cell_type": "code",
   "execution_count": 8,
   "outputs": [
    {
     "name": "stdout",
     "output_type": "stream",
     "text": [
      "[3, 3, 4, 6, 9]\n",
      "5\n",
      "[[4, 5, 6, 4], 4, 3, 2, 19]\n",
      "5\n"
     ]
    }
   ],
   "source": [
    "list2 = [[4, 5, 6, 4], 4, 3, 2, 19]\n",
    "print(list1)\n",
    "print(len(list1))\n",
    "print(list2)\n",
    "print(len(list2))"
   ],
   "metadata": {
    "collapsed": false,
    "ExecuteTime": {
     "end_time": "2023-11-08T11:06:02.844511500Z",
     "start_time": "2023-11-08T11:06:02.827010900Z"
    }
   },
   "id": "35c84a73e78b2aae"
  },
  {
   "cell_type": "code",
   "execution_count": 9,
   "outputs": [
    {
     "name": "stdout",
     "output_type": "stream",
     "text": [
      "We don't change member of list(The array and list have same member)\n",
      "The number of house we use for list are 3\n",
      "The number of house we use for aray are 9\n"
     ]
    }
   ],
   "source": [
    "list3 = [[3, 4, 5], [6, 7, 8], [5, 9, 12]]\n",
    "print(\"We don't change member of list(The array and list have same member)\")\n",
    "print(\"The number of house we use for list are\",len(list3))\n",
    "array = np.array(list3)\n",
    "print(\"The number of house we use for aray are\",array.size)\n"
   ],
   "metadata": {
    "collapsed": false,
    "ExecuteTime": {
     "end_time": "2023-11-08T11:06:03.992380100Z",
     "start_time": "2023-11-08T11:06:03.974255700Z"
    }
   },
   "id": "2d57e5956435c18d"
  },
  {
   "cell_type": "code",
   "execution_count": 10,
   "outputs": [
    {
     "name": "stdout",
     "output_type": "stream",
     "text": [
      "[3, 4, 5]\n",
      "[6, 7, 8]\n",
      "[5, 9, 12]\n"
     ]
    }
   ],
   "source": [
    "for row in list3:\n",
    "    print(row)"
   ],
   "metadata": {
    "collapsed": false,
    "ExecuteTime": {
     "end_time": "2023-11-08T11:06:04.544355700Z",
     "start_time": "2023-11-08T11:06:04.509747700Z"
    }
   },
   "id": "16a2c5a2569af4da"
  },
  {
   "cell_type": "code",
   "execution_count": 11,
   "outputs": [
    {
     "name": "stdout",
     "output_type": "stream",
     "text": [
      "[3 4 5]\n",
      "[6 7 8]\n",
      "[ 5  9 12]\n"
     ]
    }
   ],
   "source": [
    "for row in array:\n",
    "    print(row)"
   ],
   "metadata": {
    "collapsed": false,
    "ExecuteTime": {
     "end_time": "2023-11-08T11:06:05.234270900Z",
     "start_time": "2023-11-08T11:06:05.218112700Z"
    }
   },
   "id": "3c7e5c76eb9616d5"
  },
  {
   "cell_type": "code",
   "execution_count": 12,
   "outputs": [
    {
     "name": "stdout",
     "output_type": "stream",
     "text": [
      "[[3, 4, 5], [6, 7, 8], [5, 9, 12]]\n",
      "[[ 3  4  5]\n",
      " [ 6  7  8]\n",
      " [ 5  9 12]]\n"
     ]
    }
   ],
   "source": [
    "print(list3)\n",
    "print(array)"
   ],
   "metadata": {
    "collapsed": false,
    "ExecuteTime": {
     "end_time": "2023-11-08T11:06:05.672341Z",
     "start_time": "2023-11-08T11:06:05.645314100Z"
    }
   },
   "id": "83de342ade8d0be6"
  },
  {
   "cell_type": "markdown",
   "source": [
    "If we have many type of data in array,au otomatically change member of array to one type"
   ],
   "metadata": {
    "collapsed": false
   },
   "id": "54db0345f4c35f08"
  },
  {
   "cell_type": "code",
   "execution_count": 13,
   "outputs": [
    {
     "data": {
      "text/plain": "array(['s', '5', '45', 'True'], dtype='<U11')"
     },
     "execution_count": 13,
     "metadata": {},
     "output_type": "execute_result"
    }
   ],
   "source": [
    "np.array(['s', 5, 45, True])"
   ],
   "metadata": {
    "collapsed": false,
    "ExecuteTime": {
     "end_time": "2023-11-08T11:06:07.381138100Z",
     "start_time": "2023-11-08T11:06:07.359549200Z"
    }
   },
   "id": "e4df0861d2f87c2d"
  },
  {
   "cell_type": "code",
   "execution_count": 14,
   "outputs": [
    {
     "name": "stdout",
     "output_type": "stream",
     "text": [
      "<class 'numpy.ndarray'>\n"
     ]
    }
   ],
   "source": [
    "print(type(array))"
   ],
   "metadata": {
    "collapsed": false,
    "ExecuteTime": {
     "end_time": "2023-11-08T11:06:09.087124Z",
     "start_time": "2023-11-08T11:06:09.000782Z"
    }
   },
   "id": "e51de6b7355ef818"
  },
  {
   "cell_type": "code",
   "execution_count": 24,
   "outputs": [
    {
     "name": "stdout",
     "output_type": "stream",
     "text": [
      "[[3 4 5]\n",
      " [6 7 8]\n",
      " [7 8 9]]\n"
     ]
    }
   ],
   "source": [
    "list4 = [[3, 4, 5], [6, 7, 8], [7, 8, 9]]\n",
    "array = np.array(list4)\n",
    "print(array)"
   ],
   "metadata": {
    "collapsed": false,
    "ExecuteTime": {
     "end_time": "2023-11-06T19:10:22.978450Z",
     "start_time": "2023-11-06T19:10:22.964382300Z"
    }
   },
   "id": "3d44d2d7c116f56c"
  },
  {
   "cell_type": "code",
   "execution_count": 25,
   "outputs": [
    {
     "data": {
      "text/plain": "2"
     },
     "execution_count": 25,
     "metadata": {},
     "output_type": "execute_result"
    }
   ],
   "source": [
    "# dimension 2! \n",
    "array.ndim"
   ],
   "metadata": {
    "collapsed": false,
    "ExecuteTime": {
     "end_time": "2023-11-06T19:11:56.412860Z",
     "start_time": "2023-11-06T19:11:56.381589700Z"
    }
   },
   "id": "ea263369b59336ef"
  },
  {
   "cell_type": "code",
   "execution_count": 27,
   "outputs": [
    {
     "data": {
      "text/plain": "3"
     },
     "execution_count": 27,
     "metadata": {},
     "output_type": "execute_result"
    }
   ],
   "source": [
    "# A real dimension 3\n",
    "list5 = [[[3, 4, 5], [6, 7, 8], [7, 8, 9]]]\n",
    "array = np.array(list5)\n",
    "array.ndim"
   ],
   "metadata": {
    "collapsed": false,
    "ExecuteTime": {
     "end_time": "2023-11-06T19:14:42.971335900Z",
     "start_time": "2023-11-06T19:14:42.945453500Z"
    }
   },
   "id": "47dce3408f3c7e9"
  },
  {
   "cell_type": "code",
   "execution_count": 28,
   "outputs": [
    {
     "data": {
      "text/plain": "(1, 3, 3)"
     },
     "execution_count": 28,
     "metadata": {},
     "output_type": "execute_result"
    }
   ],
   "source": [
    "array.shape"
   ],
   "metadata": {
    "collapsed": false,
    "ExecuteTime": {
     "end_time": "2023-11-06T19:16:29.228761200Z",
     "start_time": "2023-11-06T19:16:29.206238700Z"
    }
   },
   "id": "def984fed78e45cb"
  },
  {
   "cell_type": "markdown",
   "source": [
    ".shape explanation\n",
    "Dimension   line(row)   column"
   ],
   "metadata": {
    "collapsed": false
   },
   "id": "6c1a305a02afa9b7"
  },
  {
   "cell_type": "code",
   "execution_count": 29,
   "outputs": [],
   "source": [
    "d, r, c = array.shape"
   ],
   "metadata": {
    "collapsed": false,
    "ExecuteTime": {
     "end_time": "2023-11-06T19:20:34.232373600Z",
     "start_time": "2023-11-06T19:20:34.211358Z"
    }
   },
   "id": "42287b9a1ab044f7"
  },
  {
   "cell_type": "code",
   "execution_count": 35,
   "outputs": [
    {
     "name": "stdout",
     "output_type": "stream",
     "text": [
      "DIMENSION : 1 ,ROW :  3 ,COLUMN :  3\n"
     ]
    }
   ],
   "source": [
    "print('DIMENSION :', d,\n",
    "      ',ROW : ', r,\n",
    "      ',COLUMN : ', c)"
   ],
   "metadata": {
    "collapsed": false,
    "ExecuteTime": {
     "end_time": "2023-11-06T19:42:00.685923700Z",
     "start_time": "2023-11-06T19:42:00.675126300Z"
    }
   },
   "id": "827c4eaec2ea37ef"
  },
  {
   "cell_type": "code",
   "execution_count": 36,
   "outputs": [
    {
     "data": {
      "text/plain": "9"
     },
     "execution_count": 36,
     "metadata": {},
     "output_type": "execute_result"
    }
   ],
   "source": [
    "#The number of house in array\n",
    "array.size"
   ],
   "metadata": {
    "collapsed": false,
    "ExecuteTime": {
     "end_time": "2023-11-06T19:43:02.203392500Z",
     "start_time": "2023-11-06T19:43:02.180533200Z"
    }
   },
   "id": "32644dbd019f2c82"
  },
  {
   "cell_type": "code",
   "execution_count": 37,
   "outputs": [
    {
     "ename": "TypeError",
     "evalue": "can only concatenate list (not \"int\") to list",
     "output_type": "error",
     "traceback": [
      "\u001B[1;31m---------------------------------------------------------------------------\u001B[0m",
      "\u001B[1;31mTypeError\u001B[0m                                 Traceback (most recent call last)",
      "Cell \u001B[1;32mIn[37], line 2\u001B[0m\n\u001B[0;32m      1\u001B[0m \u001B[38;5;66;03m# We can't sum number to all member of list\u001B[39;00m\n\u001B[1;32m----> 2\u001B[0m list4 \u001B[38;5;241m+\u001B[39m \u001B[38;5;241m2\u001B[39m\n",
      "\u001B[1;31mTypeError\u001B[0m: can only concatenate list (not \"int\") to list"
     ]
    }
   ],
   "source": [
    "# We can't sum number to all member of list with same order as array\n",
    "list4 + 2"
   ],
   "metadata": {
    "collapsed": false,
    "ExecuteTime": {
     "end_time": "2023-11-06T19:45:50.050908100Z",
     "start_time": "2023-11-06T19:45:49.241935Z"
    }
   },
   "id": "46843977ded3d02a"
  },
  {
   "cell_type": "code",
   "execution_count": 38,
   "outputs": [
    {
     "data": {
      "text/plain": "array([[[ 5,  6,  7],\n        [ 8,  9, 10],\n        [ 9, 10, 11]]])"
     },
     "execution_count": 38,
     "metadata": {},
     "output_type": "execute_result"
    }
   ],
   "source": [
    "array + 2"
   ],
   "metadata": {
    "collapsed": false,
    "ExecuteTime": {
     "end_time": "2023-11-06T19:45:58.351081200Z",
     "start_time": "2023-11-06T19:45:58.328585900Z"
    }
   },
   "id": "dcac19c56701e336"
  },
  {
   "cell_type": "code",
   "execution_count": 26,
   "outputs": [
    {
     "name": "stdout",
     "output_type": "stream",
     "text": [
      "[[11, 12, 13, 14, 15]]\n"
     ]
    }
   ],
   "source": [
    "l = [[[3, 4, 6], [5, 6, 7], [6, 3, 8]]]\n",
    "# solution for array is :\n",
    "for i in range(len(l)):\n",
    "    l[i] += 2 "
   ],
   "metadata": {
    "collapsed": false,
    "ExecuteTime": {
     "end_time": "2023-11-08T11:22:51.902622700Z",
     "start_time": "2023-11-08T11:22:51.869756900Z"
    }
   },
   "id": "7b96e140ed1b7cf4"
  },
  {
   "cell_type": "markdown",
   "source": [
    "We can check the time of block"
   ],
   "metadata": {
    "collapsed": false,
    "ExecuteTime": {
     "end_time": "2023-11-08T11:19:43.983439Z",
     "start_time": "2023-11-08T11:19:43.965082900Z"
    }
   },
   "id": "b8571e0e554e9072"
  },
  {
   "cell_type": "code",
   "execution_count": 45,
   "outputs": [
    {
     "name": "stdout",
     "output_type": "stream",
     "text": [
      "816 ns ± 4.66 ns per loop (mean ± std. dev. of 7 runs, 1,000,000 loops each)\n"
     ]
    }
   ],
   "source": [
    "%%timeit\n",
    "array + 2"
   ],
   "metadata": {
    "collapsed": false,
    "ExecuteTime": {
     "end_time": "2023-11-06T19:57:57.232819100Z",
     "start_time": "2023-11-06T19:57:50.602977500Z"
    }
   },
   "id": "1455c7c14c323ff9"
  },
  {
   "cell_type": "code",
   "execution_count": 46,
   "outputs": [
    {
     "name": "stdout",
     "output_type": "stream",
     "text": [
      "[0, 0, 0, 0, 0, 0, 0, 0, 0, 0]\n"
     ]
    }
   ],
   "source": [
    "lst = []\n",
    "for i in range(10):\n",
    "    lst.append(0)\n",
    "print(lst)"
   ],
   "metadata": {
    "collapsed": false,
    "ExecuteTime": {
     "end_time": "2023-11-06T20:05:05.734160700Z",
     "start_time": "2023-11-06T20:05:05.709575400Z"
    }
   },
   "id": "e8e650eec7655fac"
  },
  {
   "cell_type": "code",
   "execution_count": 47,
   "outputs": [
    {
     "name": "stdout",
     "output_type": "stream",
     "text": [
      "[0, 0, 0, 0, 0, 0, 0, 0, 0, 0]\n"
     ]
    }
   ],
   "source": [
    "lst = [0 for i in range(10)]\n",
    "print(lst)"
   ],
   "metadata": {
    "collapsed": false,
    "ExecuteTime": {
     "end_time": "2023-11-06T20:05:34.476359700Z",
     "start_time": "2023-11-06T20:05:34.451643100Z"
    }
   },
   "id": "668c5b37f41d0f6"
  },
  {
   "cell_type": "code",
   "execution_count": 49,
   "outputs": [
    {
     "name": "stdout",
     "output_type": "stream",
     "text": [
      "[0. 0. 0. 0. 0. 0. 0. 0. 0. 0.]\n"
     ]
    }
   ],
   "source": [
    "array = np.zeros(10)\n",
    "print(array)\n",
    "#float type"
   ],
   "metadata": {
    "collapsed": false,
    "ExecuteTime": {
     "end_time": "2023-11-06T20:06:16.920461Z",
     "start_time": "2023-11-06T20:06:16.906137700Z"
    }
   },
   "id": "3237b1ea9561dc1e"
  },
  {
   "cell_type": "code",
   "execution_count": 50,
   "outputs": [
    {
     "name": "stdout",
     "output_type": "stream",
     "text": [
      "[0 0 0 0 0 0 0 0 0 0]\n"
     ]
    }
   ],
   "source": [
    "#int type \n",
    "array = np.zeros(10, np.int_)\n",
    "print(array)"
   ],
   "metadata": {
    "collapsed": false,
    "ExecuteTime": {
     "end_time": "2023-11-06T20:07:16.572847400Z",
     "start_time": "2023-11-06T20:07:16.541688200Z"
    }
   },
   "id": "a7cf1491c2c2fbcf"
  },
  {
   "cell_type": "code",
   "execution_count": 51,
   "outputs": [
    {
     "name": "stdout",
     "output_type": "stream",
     "text": [
      "[[[0 0 0 0 0 0 0 0 0 0]\n",
      "  [0 0 0 0 0 0 0 0 0 0]\n",
      "  [0 0 0 0 0 0 0 0 0 0]\n",
      "  [0 0 0 0 0 0 0 0 0 0]]\n",
      "\n",
      " [[0 0 0 0 0 0 0 0 0 0]\n",
      "  [0 0 0 0 0 0 0 0 0 0]\n",
      "  [0 0 0 0 0 0 0 0 0 0]\n",
      "  [0 0 0 0 0 0 0 0 0 0]]\n",
      "\n",
      " [[0 0 0 0 0 0 0 0 0 0]\n",
      "  [0 0 0 0 0 0 0 0 0 0]\n",
      "  [0 0 0 0 0 0 0 0 0 0]\n",
      "  [0 0 0 0 0 0 0 0 0 0]]]\n"
     ]
    }
   ],
   "source": [
    "array = np.zeros((3, 4, 10), np.int_)\n",
    "print(array)"
   ],
   "metadata": {
    "collapsed": false,
    "ExecuteTime": {
     "end_time": "2023-11-06T20:08:37.075080900Z",
     "start_time": "2023-11-06T20:08:37.046126600Z"
    }
   },
   "id": "27bbdf8cc8f8509f"
  },
  {
   "cell_type": "code",
   "execution_count": 52,
   "outputs": [
    {
     "name": "stdout",
     "output_type": "stream",
     "text": [
      "[[[1 1 1 1 1 1 1 1 1 1]\n",
      "  [1 1 1 1 1 1 1 1 1 1]\n",
      "  [1 1 1 1 1 1 1 1 1 1]\n",
      "  [1 1 1 1 1 1 1 1 1 1]]\n",
      "\n",
      " [[1 1 1 1 1 1 1 1 1 1]\n",
      "  [1 1 1 1 1 1 1 1 1 1]\n",
      "  [1 1 1 1 1 1 1 1 1 1]\n",
      "  [1 1 1 1 1 1 1 1 1 1]]\n",
      "\n",
      " [[1 1 1 1 1 1 1 1 1 1]\n",
      "  [1 1 1 1 1 1 1 1 1 1]\n",
      "  [1 1 1 1 1 1 1 1 1 1]\n",
      "  [1 1 1 1 1 1 1 1 1 1]]]\n"
     ]
    }
   ],
   "source": [
    "array = np.ones((3, 4, 10), np.int_)\n",
    "print(array)"
   ],
   "metadata": {
    "collapsed": false,
    "ExecuteTime": {
     "end_time": "2023-11-06T20:09:07.695951600Z",
     "start_time": "2023-11-06T20:09:07.666786800Z"
    }
   },
   "id": "a04fd169c24d868c"
  },
  {
   "cell_type": "markdown",
   "source": [
    "ones and zeros are ready order for use,\n",
    "but we can take other value"
   ],
   "metadata": {
    "collapsed": false
   },
   "id": "5eecdf39bf8f2a3a"
  },
  {
   "cell_type": "code",
   "execution_count": 53,
   "outputs": [
    {
     "name": "stdout",
     "output_type": "stream",
     "text": [
      "[[[4 4 4 4 4 4 4 4 4 4]\n",
      "  [4 4 4 4 4 4 4 4 4 4]\n",
      "  [4 4 4 4 4 4 4 4 4 4]]\n",
      "\n",
      " [[4 4 4 4 4 4 4 4 4 4]\n",
      "  [4 4 4 4 4 4 4 4 4 4]\n",
      "  [4 4 4 4 4 4 4 4 4 4]]]\n"
     ]
    }
   ],
   "source": [
    "array = np.full((2, 3, 10), 4)\n",
    "print(array)"
   ],
   "metadata": {
    "collapsed": false,
    "ExecuteTime": {
     "end_time": "2023-11-06T20:12:22.443950100Z",
     "start_time": "2023-11-06T20:12:22.412837800Z"
    }
   },
   "id": "a56ebadc04b319aa"
  },
  {
   "cell_type": "code",
   "execution_count": 54,
   "outputs": [
    {
     "name": "stdout",
     "output_type": "stream",
     "text": [
      "[[[72 72 72 72 72 72]\n",
      "  [72 72 72 72 72 72]\n",
      "  [72 72 72 72 72 72]]\n",
      "\n",
      " [[72 72 72 72 72 72]\n",
      "  [72 72 72 72 72 72]\n",
      "  [72 72 72 72 72 72]]\n",
      "\n",
      " [[72 72 72 72 72 72]\n",
      "  [72 72 72 72 72 72]\n",
      "  [72 72 72 72 72 72]]\n",
      "\n",
      " [[72 72 72 72 72 72]\n",
      "  [72 72 72 72 72 72]\n",
      "  [72 72 72 72 72 72]]]\n"
     ]
    }
   ],
   "source": [
    "array = np.full((4, 3, 6), 72)\n",
    "print(array)"
   ],
   "metadata": {
    "collapsed": false,
    "ExecuteTime": {
     "end_time": "2023-11-06T20:12:48.480641900Z",
     "start_time": "2023-11-06T20:12:48.444120500Z"
    }
   },
   "id": "3aee6fe1acdcc020"
  },
  {
   "cell_type": "code",
   "execution_count": 55,
   "outputs": [
    {
     "name": "stdout",
     "output_type": "stream",
     "text": [
      "[0.75024347 0.10884403 0.02538078 0.43181888 0.11297737]\n"
     ]
    }
   ],
   "source": [
    "print(np.random.random(5))\n",
    "# The value are between zero and one"
   ],
   "metadata": {
    "collapsed": false,
    "ExecuteTime": {
     "end_time": "2023-11-06T20:13:45.494608200Z",
     "start_time": "2023-11-06T20:13:45.465597500Z"
    }
   },
   "id": "eea2cf9a88287432"
  },
  {
   "cell_type": "code",
   "execution_count": 56,
   "outputs": [
    {
     "name": "stdout",
     "output_type": "stream",
     "text": [
      "[9.01931973 4.61316956 4.29574813 3.10692835 2.67265488]\n"
     ]
    }
   ],
   "source": [
    "print(np.random.random(5)*10)"
   ],
   "metadata": {
    "collapsed": false,
    "ExecuteTime": {
     "end_time": "2023-11-06T20:14:17.665672Z",
     "start_time": "2023-11-06T20:14:17.616170800Z"
    }
   },
   "id": "e90b9812cb81fd05"
  },
  {
   "cell_type": "markdown",
   "source": [
    "we can change shape of array\n",
    "but in list this work is so hard"
   ],
   "metadata": {
    "collapsed": false
   },
   "id": "361347c24bd7b3ce"
  },
  {
   "cell_type": "code",
   "execution_count": 58,
   "outputs": [
    {
     "data": {
      "text/plain": "array([[72, 72, 72, 72],\n       [72, 72, 72, 72],\n       [72, 72, 72, 72],\n       [72, 72, 72, 72],\n       [72, 72, 72, 72],\n       [72, 72, 72, 72],\n       [72, 72, 72, 72],\n       [72, 72, 72, 72],\n       [72, 72, 72, 72],\n       [72, 72, 72, 72],\n       [72, 72, 72, 72],\n       [72, 72, 72, 72],\n       [72, 72, 72, 72],\n       [72, 72, 72, 72],\n       [72, 72, 72, 72],\n       [72, 72, 72, 72],\n       [72, 72, 72, 72],\n       [72, 72, 72, 72]])"
     },
     "execution_count": 58,
     "metadata": {},
     "output_type": "execute_result"
    }
   ],
   "source": [
    "array.reshape(18 ,4)"
   ],
   "metadata": {
    "collapsed": false,
    "ExecuteTime": {
     "end_time": "2023-11-06T20:17:44.490237200Z",
     "start_time": "2023-11-06T20:17:44.474030Z"
    }
   },
   "id": "5a65c7c856a986b2"
  },
  {
   "cell_type": "code",
   "execution_count": 59,
   "outputs": [
    {
     "data": {
      "text/plain": "array([ 0.,  4.,  8., 12., 16., 20.])"
     },
     "execution_count": 59,
     "metadata": {},
     "output_type": "execute_result"
    }
   ],
   "source": [
    "np.linspace(0, 20, 6)"
   ],
   "metadata": {
    "collapsed": false,
    "ExecuteTime": {
     "end_time": "2023-11-06T20:20:10.168142200Z",
     "start_time": "2023-11-06T20:20:10.114411900Z"
    }
   },
   "id": "ae249eea3594b58b"
  },
  {
   "cell_type": "code",
   "execution_count": 61,
   "outputs": [
    {
     "data": {
      "text/plain": "array([  2. ,   5.5,   9. ,  12.5,  16. ,  19.5,  23. ,  26.5,  30. ,\n        33.5,  37. ,  40.5,  44. ,  47.5,  51. ,  54.5,  58. ,  61.5,\n        65. ,  68.5,  72. ,  75.5,  79. ,  82.5,  86. ,  89.5,  93. ,\n        96.5, 100. , 103.5, 107. , 110.5, 114. , 117.5, 121. , 124.5,\n       128. , 131.5, 135. , 138.5, 142. , 145.5, 149. , 152.5, 156. ,\n       159.5, 163. , 166.5, 170. , 173.5, 177. , 180.5, 184. , 187.5,\n       191. , 194.5, 198. ])"
     },
     "execution_count": 61,
     "metadata": {},
     "output_type": "execute_result"
    }
   ],
   "source": [
    "np.arange(2, 200, 3.5)"
   ],
   "metadata": {
    "collapsed": false,
    "ExecuteTime": {
     "end_time": "2023-11-06T20:22:50.952380200Z",
     "start_time": "2023-11-06T20:22:50.919743100Z"
    }
   },
   "id": "ca8cc9f16cb2dc18"
  },
  {
   "cell_type": "code",
   "execution_count": null,
   "outputs": [],
   "source": [],
   "metadata": {
    "collapsed": false
   },
   "id": "d3a6281539132043"
  }
 ],
 "metadata": {
  "kernelspec": {
   "display_name": "Python 3",
   "language": "python",
   "name": "python3"
  },
  "language_info": {
   "codemirror_mode": {
    "name": "ipython",
    "version": 2
   },
   "file_extension": ".py",
   "mimetype": "text/x-python",
   "name": "python",
   "nbconvert_exporter": "python",
   "pygments_lexer": "ipython2",
   "version": "2.7.6"
  }
 },
 "nbformat": 4,
 "nbformat_minor": 5
}

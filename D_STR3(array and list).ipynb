{
 "cells": [
  {
   "cell_type": "markdown",
   "source": [
    "array and list\n",
    "* array is a data structure that stores a collection of elements of the same data type in contiguous memory locations. Each element in an array is identified by an index or a subscript.\n",
    "* list is a data structure that stores a collection of elements of different data types.\n",
    "* Unlike arrays, lists are dynamic and can grow or shrink in size during runtime\n",
    "* Lists are used when the number of elements to be stored is not known beforehand or changes frequently\n",
    "* All data that are used in the array should have the same dimension unlike a list \n",
    " for example : [[2, 4], [5, 4]] and [[3], [5, 4, 5], [4, 8, 9, 12]]\n",
    "* array has more speed than list (RAM should search in lots of place in memory to find a value but in array value save with good order)\n",
    "* Big O in the list is 1\n"
   ],
   "metadata": {
    "collapsed": false
   },
   "id": "e92204ce077a894e"
  },
  {
   "cell_type": "code",
   "execution_count": 7,
   "outputs": [],
   "source": [
    "import numpy as np"
   ],
   "metadata": {
    "collapsed": false,
    "ExecuteTime": {
     "end_time": "2023-11-08T12:43:20.212791500Z",
     "start_time": "2023-11-08T12:43:20.059095500Z"
    }
   },
   "id": "initial_id"
  },
  {
   "cell_type": "code",
   "execution_count": 8,
   "outputs": [
    {
     "name": "stdout",
     "output_type": "stream",
     "text": [
      "[3, 3, 4, 6, 9]\n"
     ]
    }
   ],
   "source": [
    "list1 = [3, 3, 4, 6 ,9]\n",
    "print(list1)"
   ],
   "metadata": {
    "collapsed": false,
    "ExecuteTime": {
     "end_time": "2023-11-08T12:43:20.536779900Z",
     "start_time": "2023-11-08T12:43:20.515093100Z"
    }
   },
   "id": "98b15e0de4aa76e0"
  },
  {
   "cell_type": "code",
   "execution_count": 9,
   "outputs": [
    {
     "name": "stdout",
     "output_type": "stream",
     "text": [
      "[3 3 4 6 9]\n"
     ]
    }
   ],
   "source": [
    "array = np.array(list1)\n",
    "print(array)"
   ],
   "metadata": {
    "collapsed": false,
    "ExecuteTime": {
     "end_time": "2023-11-08T12:43:21.050884300Z",
     "start_time": "2023-11-08T12:43:21.020635800Z"
    }
   },
   "id": "93f9d53928b9d4e2"
  },
  {
   "cell_type": "markdown",
   "source": [
    "We can see different between array and list print result (in 2 last cell)"
   ],
   "metadata": {
    "collapsed": false
   },
   "id": "204694f1d9ca5779"
  },
  {
   "cell_type": "code",
   "execution_count": 10,
   "outputs": [
    {
     "name": "stdout",
     "output_type": "stream",
     "text": [
      "<class 'list'>\n",
      "<class 'numpy.ndarray'>\n"
     ]
    }
   ],
   "source": [
    "print(type(list1))\n",
    "print(type(array))"
   ],
   "metadata": {
    "collapsed": false,
    "ExecuteTime": {
     "end_time": "2023-11-08T12:43:22.084913500Z",
     "start_time": "2023-11-08T12:43:22.054514800Z"
    }
   },
   "id": "3a8c884a21677de2"
  },
  {
   "cell_type": "markdown",
   "source": [
    "Array is kind of data structure with  iterable condition and index base \n",
    "point!:Access to every  array and listing houses is possible.  "
   ],
   "metadata": {
    "collapsed": false
   },
   "id": "fd5973bebdccdb4"
  },
  {
   "cell_type": "code",
   "execution_count": 11,
   "outputs": [
    {
     "name": "stdout",
     "output_type": "stream",
     "text": [
      "9\n"
     ]
    }
   ],
   "source": [
    "print(list1[4])"
   ],
   "metadata": {
    "collapsed": false,
    "ExecuteTime": {
     "end_time": "2023-11-08T12:43:23.109647500Z",
     "start_time": "2023-11-08T12:43:23.082636200Z"
    }
   },
   "id": "d3b1dad82e5cd80f"
  },
  {
   "cell_type": "code",
   "execution_count": 12,
   "outputs": [
    {
     "name": "stdout",
     "output_type": "stream",
     "text": [
      "9\n"
     ]
    }
   ],
   "source": [
    "print(array[4])"
   ],
   "metadata": {
    "collapsed": false,
    "ExecuteTime": {
     "end_time": "2023-11-08T12:43:23.543054300Z",
     "start_time": "2023-11-08T12:43:23.528079800Z"
    }
   },
   "id": "d3a3b0249c8972b6"
  },
  {
   "cell_type": "code",
   "execution_count": 13,
   "outputs": [
    {
     "data": {
      "text/plain": "5"
     },
     "execution_count": 13,
     "metadata": {},
     "output_type": "execute_result"
    }
   ],
   "source": [
    "array.size"
   ],
   "metadata": {
    "collapsed": false,
    "ExecuteTime": {
     "end_time": "2023-11-08T12:43:24.068240300Z",
     "start_time": "2023-11-08T12:43:24.030336800Z"
    }
   },
   "id": "179569b056f1d315"
  },
  {
   "cell_type": "markdown",
   "source": [
    "We can save on list in on house of list"
   ],
   "metadata": {
    "collapsed": false
   },
   "id": "b44cfadcd43dafd0"
  },
  {
   "cell_type": "code",
   "execution_count": 14,
   "outputs": [
    {
     "name": "stdout",
     "output_type": "stream",
     "text": [
      "[3, 3, 4, 6, 9]\n",
      "5\n",
      "[[4, 5, 6, 4], 4, 3, 2, 19]\n",
      "5\n"
     ]
    }
   ],
   "source": [
    "list2 = [[4, 5, 6, 4], 4, 3, 2, 19]\n",
    "print(list1)\n",
    "print(len(list1))\n",
    "print(list2)\n",
    "print(len(list2))"
   ],
   "metadata": {
    "collapsed": false,
    "ExecuteTime": {
     "end_time": "2023-11-08T12:43:25.067250800Z",
     "start_time": "2023-11-08T12:43:25.051331700Z"
    }
   },
   "id": "35c84a73e78b2aae"
  },
  {
   "cell_type": "code",
   "execution_count": 15,
   "outputs": [
    {
     "name": "stdout",
     "output_type": "stream",
     "text": [
      "We don't change member of list(The array and list have same member)\n",
      "The number of house we use for list are 3\n",
      "The number of house we use for aray are 9\n"
     ]
    }
   ],
   "source": [
    "list3 = [[3, 4, 5], [6, 7, 8], [5, 9, 12]]\n",
    "print(\"We don't change member of list(The array and list have same member)\")\n",
    "print(\"The number of house we use for list are\",len(list3))\n",
    "array = np.array(list3)\n",
    "print(\"The number of house we use for aray are\",array.size)\n"
   ],
   "metadata": {
    "collapsed": false,
    "ExecuteTime": {
     "end_time": "2023-11-08T12:43:25.582250800Z",
     "start_time": "2023-11-08T12:43:25.565579100Z"
    }
   },
   "id": "2d57e5956435c18d"
  },
  {
   "cell_type": "code",
   "execution_count": 16,
   "outputs": [
    {
     "name": "stdout",
     "output_type": "stream",
     "text": [
      "[3, 4, 5]\n",
      "[6, 7, 8]\n",
      "[5, 9, 12]\n"
     ]
    }
   ],
   "source": [
    "for row in list3:\n",
    "    print(row)"
   ],
   "metadata": {
    "collapsed": false,
    "ExecuteTime": {
     "end_time": "2023-11-08T12:43:26.051622900Z",
     "start_time": "2023-11-08T12:43:26.035296300Z"
    }
   },
   "id": "16a2c5a2569af4da"
  },
  {
   "cell_type": "code",
   "execution_count": 17,
   "outputs": [
    {
     "name": "stdout",
     "output_type": "stream",
     "text": [
      "[3 4 5]\n",
      "[6 7 8]\n",
      "[ 5  9 12]\n"
     ]
    }
   ],
   "source": [
    "for row in array:\n",
    "    print(row)"
   ],
   "metadata": {
    "collapsed": false,
    "ExecuteTime": {
     "end_time": "2023-11-08T12:43:26.477713200Z",
     "start_time": "2023-11-08T12:43:26.448025700Z"
    }
   },
   "id": "3c7e5c76eb9616d5"
  },
  {
   "cell_type": "code",
   "execution_count": 18,
   "outputs": [
    {
     "name": "stdout",
     "output_type": "stream",
     "text": [
      "[[3, 4, 5], [6, 7, 8], [5, 9, 12]]\n",
      "[[ 3  4  5]\n",
      " [ 6  7  8]\n",
      " [ 5  9 12]]\n"
     ]
    }
   ],
   "source": [
    "print(list3)\n",
    "print(array)"
   ],
   "metadata": {
    "collapsed": false,
    "ExecuteTime": {
     "end_time": "2023-11-08T12:43:26.978091100Z",
     "start_time": "2023-11-08T12:43:26.943292Z"
    }
   },
   "id": "83de342ade8d0be6"
  },
  {
   "cell_type": "markdown",
   "source": [
    "If we have many type of data in array,au otomatically change member of array to one type"
   ],
   "metadata": {
    "collapsed": false
   },
   "id": "54db0345f4c35f08"
  },
  {
   "cell_type": "code",
   "execution_count": 19,
   "outputs": [
    {
     "data": {
      "text/plain": "array(['s', '5', '45', 'True'], dtype='<U11')"
     },
     "execution_count": 19,
     "metadata": {},
     "output_type": "execute_result"
    }
   ],
   "source": [
    "np.array(['s', 5, 45, True])"
   ],
   "metadata": {
    "collapsed": false,
    "ExecuteTime": {
     "end_time": "2023-11-08T12:43:27.904955700Z",
     "start_time": "2023-11-08T12:43:27.883259700Z"
    }
   },
   "id": "e4df0861d2f87c2d"
  },
  {
   "cell_type": "code",
   "execution_count": 20,
   "outputs": [
    {
     "name": "stdout",
     "output_type": "stream",
     "text": [
      "<class 'numpy.ndarray'>\n"
     ]
    }
   ],
   "source": [
    "print(type(array))"
   ],
   "metadata": {
    "collapsed": false,
    "ExecuteTime": {
     "end_time": "2023-11-08T12:43:28.460347200Z",
     "start_time": "2023-11-08T12:43:28.455817100Z"
    }
   },
   "id": "e51de6b7355ef818"
  },
  {
   "cell_type": "code",
   "execution_count": 21,
   "outputs": [
    {
     "name": "stdout",
     "output_type": "stream",
     "text": [
      "[[3 4 5]\n",
      " [6 7 8]\n",
      " [7 8 9]]\n"
     ]
    }
   ],
   "source": [
    "list4 = [[3, 4, 5], [6, 7, 8], [7, 8, 9]]\n",
    "array = np.array(list4)\n",
    "print(array)"
   ],
   "metadata": {
    "collapsed": false,
    "ExecuteTime": {
     "end_time": "2023-11-08T12:43:29.419585800Z",
     "start_time": "2023-11-08T12:43:29.391796Z"
    }
   },
   "id": "3d44d2d7c116f56c"
  },
  {
   "cell_type": "code",
   "execution_count": 22,
   "outputs": [
    {
     "data": {
      "text/plain": "2"
     },
     "execution_count": 22,
     "metadata": {},
     "output_type": "execute_result"
    }
   ],
   "source": [
    "# dimension 2! \n",
    "array.ndim"
   ],
   "metadata": {
    "collapsed": false,
    "ExecuteTime": {
     "end_time": "2023-11-08T12:43:30.162209200Z",
     "start_time": "2023-11-08T12:43:30.143178600Z"
    }
   },
   "id": "ea263369b59336ef"
  },
  {
   "cell_type": "code",
   "execution_count": 23,
   "outputs": [
    {
     "data": {
      "text/plain": "3"
     },
     "execution_count": 23,
     "metadata": {},
     "output_type": "execute_result"
    }
   ],
   "source": [
    "# A real dimension 3\n",
    "list5 = [[[3, 4, 5], [6, 7, 8], [7, 8, 9]]]\n",
    "array = np.array(list5)\n",
    "array.ndim"
   ],
   "metadata": {
    "collapsed": false,
    "ExecuteTime": {
     "end_time": "2023-11-08T12:43:30.648843100Z",
     "start_time": "2023-11-08T12:43:30.632204Z"
    }
   },
   "id": "47dce3408f3c7e9"
  },
  {
   "cell_type": "code",
   "execution_count": 24,
   "outputs": [
    {
     "data": {
      "text/plain": "(1, 3, 3)"
     },
     "execution_count": 24,
     "metadata": {},
     "output_type": "execute_result"
    }
   ],
   "source": [
    "array.shape"
   ],
   "metadata": {
    "collapsed": false,
    "ExecuteTime": {
     "end_time": "2023-11-08T12:43:31.250210300Z",
     "start_time": "2023-11-08T12:43:31.220787600Z"
    }
   },
   "id": "def984fed78e45cb"
  },
  {
   "cell_type": "markdown",
   "source": [
    ".shape explanation\n",
    "Dimension   line(row)   column"
   ],
   "metadata": {
    "collapsed": false
   },
   "id": "6c1a305a02afa9b7"
  },
  {
   "cell_type": "code",
   "execution_count": 25,
   "outputs": [],
   "source": [
    "d, r, c = array.shape"
   ],
   "metadata": {
    "collapsed": false,
    "ExecuteTime": {
     "end_time": "2023-11-08T12:43:32.299506900Z",
     "start_time": "2023-11-08T12:43:32.279163Z"
    }
   },
   "id": "42287b9a1ab044f7"
  },
  {
   "cell_type": "code",
   "execution_count": 26,
   "outputs": [
    {
     "name": "stdout",
     "output_type": "stream",
     "text": [
      "DIMENSION : 1 ,ROW :  3 ,COLUMN :  3\n"
     ]
    }
   ],
   "source": [
    "print('DIMENSION :', d,\n",
    "      ',ROW : ', r,\n",
    "      ',COLUMN : ', c)"
   ],
   "metadata": {
    "collapsed": false,
    "ExecuteTime": {
     "end_time": "2023-11-08T12:43:32.817931700Z",
     "start_time": "2023-11-08T12:43:32.801664200Z"
    }
   },
   "id": "827c4eaec2ea37ef"
  },
  {
   "cell_type": "code",
   "execution_count": 27,
   "outputs": [
    {
     "data": {
      "text/plain": "9"
     },
     "execution_count": 27,
     "metadata": {},
     "output_type": "execute_result"
    }
   ],
   "source": [
    "#The number of house in array\n",
    "array.size"
   ],
   "metadata": {
    "collapsed": false,
    "ExecuteTime": {
     "end_time": "2023-11-08T12:43:33.331083900Z",
     "start_time": "2023-11-08T12:43:33.314189Z"
    }
   },
   "id": "32644dbd019f2c82"
  },
  {
   "cell_type": "code",
   "execution_count": 28,
   "outputs": [
    {
     "ename": "TypeError",
     "evalue": "can only concatenate list (not \"int\") to list",
     "output_type": "error",
     "traceback": [
      "\u001B[1;31m---------------------------------------------------------------------------\u001B[0m",
      "\u001B[1;31mTypeError\u001B[0m                                 Traceback (most recent call last)",
      "Cell \u001B[1;32mIn[28], line 2\u001B[0m\n\u001B[0;32m      1\u001B[0m \u001B[38;5;66;03m# We can't sum number to all member of list with same order as array\u001B[39;00m\n\u001B[1;32m----> 2\u001B[0m list4 \u001B[38;5;241m+\u001B[39m \u001B[38;5;241m2\u001B[39m\n",
      "\u001B[1;31mTypeError\u001B[0m: can only concatenate list (not \"int\") to list"
     ]
    }
   ],
   "source": [
    "# We can't sum number to all member of list with same order as array\n",
    "list4 + 2"
   ],
   "metadata": {
    "collapsed": false,
    "ExecuteTime": {
     "end_time": "2023-11-08T12:43:34.018767300Z",
     "start_time": "2023-11-08T12:43:33.949333100Z"
    }
   },
   "id": "46843977ded3d02a"
  },
  {
   "cell_type": "code",
   "execution_count": 29,
   "outputs": [
    {
     "name": "stdout",
     "output_type": "stream",
     "text": [
      "[[[13, 14, 16], [15, 16, 17], [16, 17, 18]]]\n"
     ]
    }
   ],
   "source": [
    "# Our solution for list is:\n",
    "def add(lst):\n",
    "    if isinstance(lst, list):\n",
    "        for i in range(len(lst)):\n",
    "            lst[i] = add(lst[i])\n",
    "        return lst\n",
    "    else:\n",
    "        return lst + 10\n",
    "list5 = [[[3, 4, 6], [5, 6, 7], [6, 7, 8]]]\n",
    "result = add(list5)\n",
    "print(result)"
   ],
   "metadata": {
    "collapsed": false,
    "ExecuteTime": {
     "end_time": "2023-11-08T12:43:34.584290700Z",
     "start_time": "2023-11-08T12:43:34.568612800Z"
    }
   },
   "id": "aa817c508b19f14d"
  },
  {
   "cell_type": "code",
   "execution_count": 48,
   "outputs": [
    {
     "name": "stdout",
     "output_type": "stream",
     "text": [
      "[[13, 14, 16]]\n"
     ]
    }
   ],
   "source": [
    "l = [3, 4, 6]\n",
    "new_list = [x + 10 for x in l]\n",
    "l.clear()\n",
    "l.append(new_list)\n",
    "print(l)"
   ],
   "metadata": {
    "collapsed": false,
    "ExecuteTime": {
     "end_time": "2023-11-08T12:46:39.952199Z",
     "start_time": "2023-11-08T12:46:39.916118300Z"
    }
   },
   "id": "72ca6ddbd0c8a1c4"
  },
  {
   "cell_type": "code",
   "execution_count": 31,
   "outputs": [
    {
     "data": {
      "text/plain": "array([[[ 5,  6,  7],\n        [ 8,  9, 10],\n        [ 9, 10, 11]]])"
     },
     "execution_count": 31,
     "metadata": {},
     "output_type": "execute_result"
    }
   ],
   "source": [
    "array + 2"
   ],
   "metadata": {
    "collapsed": false,
    "ExecuteTime": {
     "end_time": "2023-11-08T12:43:35.621361300Z",
     "start_time": "2023-11-08T12:43:35.592838500Z"
    }
   },
   "id": "dcac19c56701e336"
  },
  {
   "cell_type": "code",
   "execution_count": 32,
   "outputs": [
    {
     "ename": "TypeError",
     "evalue": "'int' object is not iterable",
     "output_type": "error",
     "traceback": [
      "\u001B[1;31m---------------------------------------------------------------------------\u001B[0m",
      "\u001B[1;31mTypeError\u001B[0m                                 Traceback (most recent call last)",
      "Cell \u001B[1;32mIn[32], line 4\u001B[0m\n\u001B[0;32m      2\u001B[0m \u001B[38;5;66;03m# solution for array is :\u001B[39;00m\n\u001B[0;32m      3\u001B[0m \u001B[38;5;28;01mfor\u001B[39;00m i \u001B[38;5;129;01min\u001B[39;00m \u001B[38;5;28mrange\u001B[39m(\u001B[38;5;28mlen\u001B[39m(l)):\n\u001B[1;32m----> 4\u001B[0m     l[i] \u001B[38;5;241m+\u001B[39m\u001B[38;5;241m=\u001B[39m \u001B[38;5;241m2\u001B[39m\n",
      "\u001B[1;31mTypeError\u001B[0m: 'int' object is not iterable"
     ]
    }
   ],
   "source": [
    "l = [[[3, 4, 6], [5, 6, 7], [6, 3, 8]]]\n",
    "# solution for array is :\n",
    "for i in range(len(l)):\n",
    "    l[i] += 2 "
   ],
   "metadata": {
    "collapsed": false,
    "ExecuteTime": {
     "end_time": "2023-11-08T12:43:36.111556700Z",
     "start_time": "2023-11-08T12:43:36.078521300Z"
    }
   },
   "id": "7b96e140ed1b7cf4"
  },
  {
   "cell_type": "markdown",
   "source": [
    "We can check the time of block"
   ],
   "metadata": {
    "collapsed": false,
    "ExecuteTime": {
     "end_time": "2023-11-08T12:33:42.278676900Z",
     "start_time": "2023-11-08T12:33:42.260563700Z"
    }
   },
   "id": "b8571e0e554e9072"
  },
  {
   "cell_type": "code",
   "execution_count": 33,
   "outputs": [
    {
     "name": "stdout",
     "output_type": "stream",
     "text": [
      "1.09 µs ± 11.9 ns per loop (mean ± std. dev. of 7 runs, 1,000,000 loops each)\n"
     ]
    }
   ],
   "source": [
    "%%timeit\n",
    "array + 2"
   ],
   "metadata": {
    "collapsed": false,
    "ExecuteTime": {
     "end_time": "2023-11-08T12:43:46.075009500Z",
     "start_time": "2023-11-08T12:43:36.981261100Z"
    }
   },
   "id": "1455c7c14c323ff9"
  },
  {
   "cell_type": "code",
   "execution_count": 34,
   "outputs": [
    {
     "name": "stdout",
     "output_type": "stream",
     "text": [
      "[0, 0, 0, 0, 0, 0, 0, 0, 0, 0]\n"
     ]
    }
   ],
   "source": [
    "lst = []\n",
    "for i in range(10):\n",
    "    lst.append(0)\n",
    "print(lst)"
   ],
   "metadata": {
    "collapsed": false,
    "ExecuteTime": {
     "end_time": "2023-11-08T12:43:46.078533400Z",
     "start_time": "2023-11-08T12:43:46.070500600Z"
    }
   },
   "id": "e8e650eec7655fac"
  },
  {
   "cell_type": "code",
   "execution_count": 35,
   "outputs": [
    {
     "name": "stdout",
     "output_type": "stream",
     "text": [
      "[0, 0, 0, 0, 0, 0, 0, 0, 0, 0]\n"
     ]
    }
   ],
   "source": [
    "lst = [0 for i in range(10)]\n",
    "print(lst)"
   ],
   "metadata": {
    "collapsed": false,
    "ExecuteTime": {
     "end_time": "2023-11-08T12:43:47.312147800Z",
     "start_time": "2023-11-08T12:43:47.280135Z"
    }
   },
   "id": "668c5b37f41d0f6"
  },
  {
   "cell_type": "code",
   "execution_count": 36,
   "outputs": [
    {
     "name": "stdout",
     "output_type": "stream",
     "text": [
      "[0. 0. 0. 0. 0. 0. 0. 0. 0. 0.]\n"
     ]
    }
   ],
   "source": [
    "array = np.zeros(10)\n",
    "print(array)\n",
    "#float type"
   ],
   "metadata": {
    "collapsed": false,
    "ExecuteTime": {
     "end_time": "2023-11-08T12:43:47.815504400Z",
     "start_time": "2023-11-08T12:43:47.783432500Z"
    }
   },
   "id": "3237b1ea9561dc1e"
  },
  {
   "cell_type": "code",
   "execution_count": 37,
   "outputs": [
    {
     "name": "stdout",
     "output_type": "stream",
     "text": [
      "[0 0 0 0 0 0 0 0 0 0]\n"
     ]
    }
   ],
   "source": [
    "#int type \n",
    "array = np.zeros(10, np.int_)\n",
    "print(array)"
   ],
   "metadata": {
    "collapsed": false,
    "ExecuteTime": {
     "end_time": "2023-11-08T12:43:48.246872300Z",
     "start_time": "2023-11-08T12:43:48.232138400Z"
    }
   },
   "id": "a7cf1491c2c2fbcf"
  },
  {
   "cell_type": "code",
   "execution_count": 38,
   "outputs": [
    {
     "name": "stdout",
     "output_type": "stream",
     "text": [
      "[[[0 0 0 0 0 0 0 0 0 0]\n",
      "  [0 0 0 0 0 0 0 0 0 0]\n",
      "  [0 0 0 0 0 0 0 0 0 0]\n",
      "  [0 0 0 0 0 0 0 0 0 0]]\n",
      "\n",
      " [[0 0 0 0 0 0 0 0 0 0]\n",
      "  [0 0 0 0 0 0 0 0 0 0]\n",
      "  [0 0 0 0 0 0 0 0 0 0]\n",
      "  [0 0 0 0 0 0 0 0 0 0]]\n",
      "\n",
      " [[0 0 0 0 0 0 0 0 0 0]\n",
      "  [0 0 0 0 0 0 0 0 0 0]\n",
      "  [0 0 0 0 0 0 0 0 0 0]\n",
      "  [0 0 0 0 0 0 0 0 0 0]]]\n"
     ]
    }
   ],
   "source": [
    "array = np.zeros((3, 4, 10), np.int_)\n",
    "print(array)"
   ],
   "metadata": {
    "collapsed": false,
    "ExecuteTime": {
     "end_time": "2023-11-08T12:43:48.777391200Z",
     "start_time": "2023-11-08T12:43:48.762778300Z"
    }
   },
   "id": "27bbdf8cc8f8509f"
  },
  {
   "cell_type": "code",
   "execution_count": 39,
   "outputs": [
    {
     "name": "stdout",
     "output_type": "stream",
     "text": [
      "[[[1 1 1 1 1 1 1 1 1 1]\n",
      "  [1 1 1 1 1 1 1 1 1 1]\n",
      "  [1 1 1 1 1 1 1 1 1 1]\n",
      "  [1 1 1 1 1 1 1 1 1 1]]\n",
      "\n",
      " [[1 1 1 1 1 1 1 1 1 1]\n",
      "  [1 1 1 1 1 1 1 1 1 1]\n",
      "  [1 1 1 1 1 1 1 1 1 1]\n",
      "  [1 1 1 1 1 1 1 1 1 1]]\n",
      "\n",
      " [[1 1 1 1 1 1 1 1 1 1]\n",
      "  [1 1 1 1 1 1 1 1 1 1]\n",
      "  [1 1 1 1 1 1 1 1 1 1]\n",
      "  [1 1 1 1 1 1 1 1 1 1]]]\n"
     ]
    }
   ],
   "source": [
    "array = np.ones((3, 4, 10), np.int_)\n",
    "print(array)"
   ],
   "metadata": {
    "collapsed": false,
    "ExecuteTime": {
     "end_time": "2023-11-08T12:43:49.270925400Z",
     "start_time": "2023-11-08T12:43:49.238919900Z"
    }
   },
   "id": "a04fd169c24d868c"
  },
  {
   "cell_type": "markdown",
   "source": [
    "ones and zeros are ready order for use,\n",
    "but we can take other value"
   ],
   "metadata": {
    "collapsed": false
   },
   "id": "5eecdf39bf8f2a3a"
  },
  {
   "cell_type": "code",
   "execution_count": 40,
   "outputs": [
    {
     "name": "stdout",
     "output_type": "stream",
     "text": [
      "[[[4 4 4 4 4 4 4 4 4 4]\n",
      "  [4 4 4 4 4 4 4 4 4 4]\n",
      "  [4 4 4 4 4 4 4 4 4 4]]\n",
      "\n",
      " [[4 4 4 4 4 4 4 4 4 4]\n",
      "  [4 4 4 4 4 4 4 4 4 4]\n",
      "  [4 4 4 4 4 4 4 4 4 4]]]\n"
     ]
    }
   ],
   "source": [
    "array = np.full((2, 3, 10), 4)\n",
    "print(array)"
   ],
   "metadata": {
    "collapsed": false,
    "ExecuteTime": {
     "end_time": "2023-11-08T12:43:50.318961Z",
     "start_time": "2023-11-08T12:43:50.297660600Z"
    }
   },
   "id": "a56ebadc04b319aa"
  },
  {
   "cell_type": "code",
   "execution_count": 41,
   "outputs": [
    {
     "name": "stdout",
     "output_type": "stream",
     "text": [
      "[[[72 72 72 72 72 72]\n",
      "  [72 72 72 72 72 72]\n",
      "  [72 72 72 72 72 72]]\n",
      "\n",
      " [[72 72 72 72 72 72]\n",
      "  [72 72 72 72 72 72]\n",
      "  [72 72 72 72 72 72]]\n",
      "\n",
      " [[72 72 72 72 72 72]\n",
      "  [72 72 72 72 72 72]\n",
      "  [72 72 72 72 72 72]]\n",
      "\n",
      " [[72 72 72 72 72 72]\n",
      "  [72 72 72 72 72 72]\n",
      "  [72 72 72 72 72 72]]]\n"
     ]
    }
   ],
   "source": [
    "array = np.full((4, 3, 6), 72)\n",
    "print(array)"
   ],
   "metadata": {
    "collapsed": false,
    "ExecuteTime": {
     "end_time": "2023-11-08T12:43:50.777747400Z",
     "start_time": "2023-11-08T12:43:50.743051200Z"
    }
   },
   "id": "3aee6fe1acdcc020"
  },
  {
   "cell_type": "code",
   "execution_count": 42,
   "outputs": [
    {
     "name": "stdout",
     "output_type": "stream",
     "text": [
      "[0.86427483 0.24127807 0.84952516 0.1352888  0.10175586]\n"
     ]
    }
   ],
   "source": [
    "print(np.random.random(5))\n",
    "# The value are between zero and one"
   ],
   "metadata": {
    "collapsed": false,
    "ExecuteTime": {
     "end_time": "2023-11-08T12:43:51.171054600Z",
     "start_time": "2023-11-08T12:43:51.152838200Z"
    }
   },
   "id": "eea2cf9a88287432"
  },
  {
   "cell_type": "code",
   "execution_count": 43,
   "outputs": [
    {
     "name": "stdout",
     "output_type": "stream",
     "text": [
      "[4.4040321  7.64713436 9.92232655 1.43407982 2.41235361]\n"
     ]
    }
   ],
   "source": [
    "print(np.random.random(5)*10)"
   ],
   "metadata": {
    "collapsed": false,
    "ExecuteTime": {
     "end_time": "2023-11-08T12:43:51.593821300Z",
     "start_time": "2023-11-08T12:43:51.565267800Z"
    }
   },
   "id": "e90b9812cb81fd05"
  },
  {
   "cell_type": "markdown",
   "source": [
    "we can change shape of array\n",
    "but in list this work is so hard"
   ],
   "metadata": {
    "collapsed": false
   },
   "id": "361347c24bd7b3ce"
  },
  {
   "cell_type": "code",
   "execution_count": 44,
   "outputs": [
    {
     "data": {
      "text/plain": "array([[72, 72, 72, 72],\n       [72, 72, 72, 72],\n       [72, 72, 72, 72],\n       [72, 72, 72, 72],\n       [72, 72, 72, 72],\n       [72, 72, 72, 72],\n       [72, 72, 72, 72],\n       [72, 72, 72, 72],\n       [72, 72, 72, 72],\n       [72, 72, 72, 72],\n       [72, 72, 72, 72],\n       [72, 72, 72, 72],\n       [72, 72, 72, 72],\n       [72, 72, 72, 72],\n       [72, 72, 72, 72],\n       [72, 72, 72, 72],\n       [72, 72, 72, 72],\n       [72, 72, 72, 72]])"
     },
     "execution_count": 44,
     "metadata": {},
     "output_type": "execute_result"
    }
   ],
   "source": [
    "array.reshape(18 ,4)"
   ],
   "metadata": {
    "collapsed": false,
    "ExecuteTime": {
     "end_time": "2023-11-08T12:43:52.432415600Z",
     "start_time": "2023-11-08T12:43:52.414256Z"
    }
   },
   "id": "5a65c7c856a986b2"
  },
  {
   "cell_type": "code",
   "execution_count": 45,
   "outputs": [
    {
     "data": {
      "text/plain": "array([ 0.,  4.,  8., 12., 16., 20.])"
     },
     "execution_count": 45,
     "metadata": {},
     "output_type": "execute_result"
    }
   ],
   "source": [
    "np.linspace(0, 20, 6)"
   ],
   "metadata": {
    "collapsed": false,
    "ExecuteTime": {
     "end_time": "2023-11-08T12:43:52.896343900Z",
     "start_time": "2023-11-08T12:43:52.871093900Z"
    }
   },
   "id": "ae249eea3594b58b"
  },
  {
   "cell_type": "code",
   "execution_count": 46,
   "outputs": [
    {
     "data": {
      "text/plain": "array([  2. ,   5.5,   9. ,  12.5,  16. ,  19.5,  23. ,  26.5,  30. ,\n        33.5,  37. ,  40.5,  44. ,  47.5,  51. ,  54.5,  58. ,  61.5,\n        65. ,  68.5,  72. ,  75.5,  79. ,  82.5,  86. ,  89.5,  93. ,\n        96.5, 100. , 103.5, 107. , 110.5, 114. , 117.5, 121. , 124.5,\n       128. , 131.5, 135. , 138.5, 142. , 145.5, 149. , 152.5, 156. ,\n       159.5, 163. , 166.5, 170. , 173.5, 177. , 180.5, 184. , 187.5,\n       191. , 194.5, 198. ])"
     },
     "execution_count": 46,
     "metadata": {},
     "output_type": "execute_result"
    }
   ],
   "source": [
    "np.arange(2, 200, 3.5)"
   ],
   "metadata": {
    "collapsed": false,
    "ExecuteTime": {
     "end_time": "2023-11-08T12:43:53.644060100Z",
     "start_time": "2023-11-08T12:43:53.627208600Z"
    }
   },
   "id": "ca8cc9f16cb2dc18"
  },
  {
   "cell_type": "code",
   "execution_count": null,
   "outputs": [],
   "source": [],
   "metadata": {
    "collapsed": false
   },
   "id": "d3a6281539132043"
  }
 ],
 "metadata": {
  "kernelspec": {
   "display_name": "Python 3",
   "language": "python",
   "name": "python3"
  },
  "language_info": {
   "codemirror_mode": {
    "name": "ipython",
    "version": 2
   },
   "file_extension": ".py",
   "mimetype": "text/x-python",
   "name": "python",
   "nbconvert_exporter": "python",
   "pygments_lexer": "ipython2",
   "version": "2.7.6"
  }
 },
 "nbformat": 4,
 "nbformat_minor": 5
}

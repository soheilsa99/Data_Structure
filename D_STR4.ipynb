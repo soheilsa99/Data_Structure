{
 "cells": [
  {
   "cell_type": "code",
   "execution_count": 1,
   "id": "initial_id",
   "metadata": {
    "collapsed": true,
    "ExecuteTime": {
     "end_time": "2023-11-07T13:27:29.687846600Z",
     "start_time": "2023-11-07T13:27:29.556592700Z"
    }
   },
   "outputs": [],
   "source": [
    "import numpy as np"
   ]
  },
  {
   "cell_type": "code",
   "execution_count": 46,
   "outputs": [
    {
     "data": {
      "text/plain": "[3, 5, 5, 5, 4, 3]"
     },
     "execution_count": 46,
     "metadata": {},
     "output_type": "execute_result"
    }
   ],
   "source": [
    "a1 = [3 , 5, 5]\n",
    "a2 = [5 , 4, 3]\n",
    "a1+a2\n",
    "# The second list add to the end of the first list"
   ],
   "metadata": {
    "collapsed": false,
    "ExecuteTime": {
     "end_time": "2023-11-07T14:07:18.469094100Z",
     "start_time": "2023-11-07T14:07:18.435047Z"
    }
   },
   "id": "32ab99ef4dbf2dc3"
  },
  {
   "cell_type": "code",
   "execution_count": 47,
   "outputs": [
    {
     "data": {
      "text/plain": "array([8, 9, 8])"
     },
     "execution_count": 47,
     "metadata": {},
     "output_type": "execute_result"
    }
   ],
   "source": [
    "b1 = np.array([3 ,5 ,5])\n",
    "b2 = np.array([5 ,4 ,3])\n",
    "b1+b2"
   ],
   "metadata": {
    "collapsed": false,
    "ExecuteTime": {
     "end_time": "2023-11-07T14:07:46.655987400Z",
     "start_time": "2023-11-07T14:07:46.624344300Z"
    }
   },
   "id": "2c8e94467bdf6af3"
  },
  {
   "cell_type": "code",
   "execution_count": 49,
   "outputs": [
    {
     "name": "stdout",
     "output_type": "stream",
     "text": [
      "[3 5 5]\n"
     ]
    },
    {
     "data": {
      "text/plain": "array([15, 25, 25])"
     },
     "execution_count": 49,
     "metadata": {},
     "output_type": "execute_result"
    }
   ],
   "source": [
    "print(b1)\n",
    "5 * b1\n",
    "# All member of array will be offered 5 times"
   ],
   "metadata": {
    "collapsed": false,
    "ExecuteTime": {
     "end_time": "2023-11-07T14:09:17.655242Z",
     "start_time": "2023-11-07T14:09:17.622763600Z"
    }
   },
   "id": "59a27e1d1f18042e"
  },
  {
   "cell_type": "code",
   "execution_count": 50,
   "outputs": [
    {
     "data": {
      "text/plain": "(3,)"
     },
     "execution_count": 50,
     "metadata": {},
     "output_type": "execute_result"
    }
   ],
   "source": [
    "b1.shape"
   ],
   "metadata": {
    "collapsed": false,
    "ExecuteTime": {
     "end_time": "2023-11-07T14:10:04.827925100Z",
     "start_time": "2023-11-07T14:10:04.797023400Z"
    }
   },
   "id": "68d5e767fc808dcc"
  },
  {
   "cell_type": "code",
   "execution_count": 51,
   "outputs": [
    {
     "data": {
      "text/plain": "1"
     },
     "execution_count": 51,
     "metadata": {},
     "output_type": "execute_result"
    }
   ],
   "source": [
    "b1.ndim"
   ],
   "metadata": {
    "collapsed": false,
    "ExecuteTime": {
     "end_time": "2023-11-07T14:10:17.130723700Z",
     "start_time": "2023-11-07T14:10:17.114588500Z"
    }
   },
   "id": "fd2101a8d5fece47"
  },
  {
   "cell_type": "code",
   "execution_count": 52,
   "outputs": [
    {
     "data": {
      "text/plain": "3"
     },
     "execution_count": 52,
     "metadata": {},
     "output_type": "execute_result"
    }
   ],
   "source": [
    "b1.size"
   ],
   "metadata": {
    "collapsed": false,
    "ExecuteTime": {
     "end_time": "2023-11-07T14:10:28.158917Z",
     "start_time": "2023-11-07T14:10:28.155583200Z"
    }
   },
   "id": "909e22a085db4718"
  },
  {
   "cell_type": "code",
   "execution_count": 53,
   "outputs": [
    {
     "data": {
      "text/plain": "array([[5.66018418, 6.04181258, 5.49359604],\n       [6.25436555, 6.05720473, 5.95669533]])"
     },
     "execution_count": 53,
     "metadata": {},
     "output_type": "execute_result"
    }
   ],
   "source": [
    "np.random.rand(2,3) * 2 + 5"
   ],
   "metadata": {
    "collapsed": false,
    "ExecuteTime": {
     "end_time": "2023-11-07T14:11:20.883642100Z",
     "start_time": "2023-11-07T14:11:20.849930200Z"
    }
   },
   "id": "68737960a7513e65"
  },
  {
   "cell_type": "code",
   "execution_count": 2,
   "outputs": [
    {
     "data": {
      "text/plain": "array([[0., 0., 0.],\n       [0., 0., 0.],\n       [0., 0., 0.]])"
     },
     "execution_count": 2,
     "metadata": {},
     "output_type": "execute_result"
    }
   ],
   "source": [
    "a = np.zeros((3,3))\n",
    "a"
   ],
   "metadata": {
    "collapsed": false,
    "ExecuteTime": {
     "end_time": "2023-11-07T13:31:43.035592500Z",
     "start_time": "2023-11-07T13:31:42.988888100Z"
    }
   },
   "id": "c1ce6d531e512173"
  },
  {
   "cell_type": "code",
   "execution_count": 3,
   "outputs": [
    {
     "data": {
      "text/plain": "array([[5., 0., 0.],\n       [0., 0., 0.],\n       [0., 3., 0.]])"
     },
     "execution_count": 3,
     "metadata": {},
     "output_type": "execute_result"
    }
   ],
   "source": [
    "a[0,0] = 5\n",
    "a[2,1] = 3\n",
    "a"
   ],
   "metadata": {
    "collapsed": false,
    "ExecuteTime": {
     "end_time": "2023-11-07T13:32:16.003772500Z",
     "start_time": "2023-11-07T13:32:15.971664700Z"
    }
   },
   "id": "35d0a1ad61fdc2d6"
  },
  {
   "cell_type": "code",
   "execution_count": 7,
   "outputs": [
    {
     "data": {
      "text/plain": "array([[1., 1., 1., 1., 1.],\n       [5., 5., 5., 5., 5.],\n       [1., 1., 1., 1., 1.],\n       [1., 1., 1., 1., 1.],\n       [1., 1., 1., 1., 1.]])"
     },
     "execution_count": 7,
     "metadata": {},
     "output_type": "execute_result"
    }
   ],
   "source": [
    "b = np.ones((5,5))\n",
    "b[1, :] = 5\n",
    "b"
   ],
   "metadata": {
    "collapsed": false,
    "ExecuteTime": {
     "end_time": "2023-11-07T13:35:25.852988900Z",
     "start_time": "2023-11-07T13:35:25.846495Z"
    }
   },
   "id": "d89f19aed31c0953"
  },
  {
   "cell_type": "code",
   "execution_count": 8,
   "outputs": [
    {
     "data": {
      "text/plain": "array([[1., 4., 7., 1., 1.],\n       [5., 4., 7., 5., 5.],\n       [1., 4., 7., 1., 1.],\n       [1., 4., 7., 1., 1.],\n       [1., 4., 7., 1., 1.]])"
     },
     "execution_count": 8,
     "metadata": {},
     "output_type": "execute_result"
    }
   ],
   "source": [
    "b[:, 1] = 4\n",
    "b[:, 2] = 7\n",
    "b"
   ],
   "metadata": {
    "collapsed": false,
    "ExecuteTime": {
     "end_time": "2023-11-07T13:35:35.525943200Z",
     "start_time": "2023-11-07T13:35:35.509929Z"
    }
   },
   "id": "ad8deb6a08f214"
  },
  {
   "cell_type": "code",
   "execution_count": 10,
   "outputs": [
    {
     "name": "stdout",
     "output_type": "stream",
     "text": [
      "[[1. 1. 1. 1. 1.]\n",
      " [1. 1. 1. 1. 1.]\n",
      " [1. 1. 1. 9. 1.]\n",
      " [1. 1. 1. 6. 1.]\n",
      " [1. 1. 1. 1. 1.]]\n"
     ]
    }
   ],
   "source": [
    "b = np.ones((5, 5))\n",
    "b[2][3] = 9\n",
    "# in numpy library also we can use [line , column] for example\n",
    "b[3,3] = 6\n",
    "print(b)"
   ],
   "metadata": {
    "collapsed": false,
    "ExecuteTime": {
     "end_time": "2023-11-07T13:43:57.802900Z",
     "start_time": "2023-11-07T13:43:57.785728300Z"
    }
   },
   "id": "d1223c654e8e22c9"
  },
  {
   "cell_type": "code",
   "execution_count": 12,
   "outputs": [
    {
     "name": "stdout",
     "output_type": "stream",
     "text": [
      "[[0. 0. 1. 6. 0.]\n",
      " [6. 0. 9. 2. 7.]\n",
      " [2. 3. 9. 0. 5.]\n",
      " [4. 9. 4. 4. 9.]\n",
      " [7. 2. 8. 7. 2.]]\n"
     ]
    }
   ],
   "source": [
    "# matrix with special dimension and random value for member\n",
    "c = np.random.uniform(0,10,(5,5))\n",
    "c = np.round(c)\n",
    "# We use .round in numpy library for don't have float number\n",
    "print(c)"
   ],
   "metadata": {
    "collapsed": false,
    "ExecuteTime": {
     "end_time": "2023-11-07T13:45:17.636699900Z",
     "start_time": "2023-11-07T13:45:17.627707200Z"
    }
   },
   "id": "1066782e05e817cf"
  },
  {
   "cell_type": "code",
   "execution_count": 13,
   "outputs": [
    {
     "name": "stdout",
     "output_type": "stream",
     "text": [
      "(5, 5)\n"
     ]
    }
   ],
   "source": [
    "print(c.shape)"
   ],
   "metadata": {
    "collapsed": false,
    "ExecuteTime": {
     "end_time": "2023-11-07T13:45:18.583570900Z",
     "start_time": "2023-11-07T13:45:18.550626Z"
    }
   },
   "id": "790482b1ca504588"
  },
  {
   "cell_type": "code",
   "execution_count": 15,
   "outputs": [
    {
     "name": "stdout",
     "output_type": "stream",
     "text": [
      "[[ 1.  1.  2.  7.  1.]\n",
      " [ 7.  1. 10.  3.  8.]\n",
      " [ 3.  4. 10.  9.  6.]\n",
      " [ 5. 10.  5. 10. 10.]\n",
      " [ 8.  3.  9.  8.  3.]]\n"
     ]
    },
    {
     "data": {
      "text/plain": "\"\\nif we don't use numpy library , this order has make new matrix with element of \\n2 matrix , don't sum of them and we have one combination matrix of the element of \\n2 matrices\\n\""
     },
     "execution_count": 15,
     "metadata": {},
     "output_type": "execute_result"
    }
   ],
   "source": [
    "print(b + c)\n",
    "\"\"\"\n",
    "if we don't use numpy library , this order has make new matrix with element of \n",
    "2 matrix , don't sum of them and we have one combination matrix of the element of \n",
    "2 matrices\n",
    "\"\"\""
   ],
   "metadata": {
    "collapsed": false,
    "ExecuteTime": {
     "end_time": "2023-11-07T13:45:54.360593100Z",
     "start_time": "2023-11-07T13:45:54.328990400Z"
    }
   },
   "id": "6c921f9f1255f860"
  },
  {
   "cell_type": "code",
   "execution_count": 16,
   "outputs": [
    {
     "name": "stdout",
     "output_type": "stream",
     "text": [
      "[[ 1.  1.  0. -5.  1.]\n",
      " [-5.  1. -8. -1. -6.]\n",
      " [-1. -2. -8.  9. -4.]\n",
      " [-3. -8. -3.  2. -8.]\n",
      " [-6. -1. -7. -6. -1.]]\n"
     ]
    }
   ],
   "source": [
    "print(b-c)"
   ],
   "metadata": {
    "collapsed": false,
    "ExecuteTime": {
     "end_time": "2023-11-07T13:47:22.019792Z",
     "start_time": "2023-11-07T13:47:22.006276300Z"
    }
   },
   "id": "3f2de7eed960881e"
  },
  {
   "cell_type": "code",
   "execution_count": 18,
   "outputs": [
    {
     "name": "stdout",
     "output_type": "stream",
     "text": [
      "[[ 0.  0.  1.  6.  0.]\n",
      " [ 6.  0.  9.  2.  7.]\n",
      " [ 2.  3.  9.  0.  5.]\n",
      " [ 4.  9.  4. 24.  9.]\n",
      " [ 7.  2.  8.  7.  2.]]\n"
     ]
    }
   ],
   "source": [
    "print(b*c)\n",
    "# this is not matrices multiplication "
   ],
   "metadata": {
    "collapsed": false,
    "ExecuteTime": {
     "end_time": "2023-11-07T13:47:53.830480Z",
     "start_time": "2023-11-07T13:47:53.798719400Z"
    }
   },
   "id": "1fe1cc63a1f6f4b5"
  },
  {
   "cell_type": "code",
   "execution_count": 19,
   "outputs": [
    {
     "name": "stdout",
     "output_type": "stream",
     "text": [
      "[[19. 14. 31. 19. 23.]\n",
      " [19. 14. 31. 19. 23.]\n",
      " [51. 86. 63. 51. 95.]\n",
      " [39. 59. 51. 39. 68.]\n",
      " [19. 14. 31. 19. 23.]]\n"
     ]
    }
   ],
   "source": [
    "# matrices multiplication with this format\n",
    "print(b.dot(c))"
   ],
   "metadata": {
    "collapsed": false,
    "ExecuteTime": {
     "end_time": "2023-11-07T13:48:21.559692200Z",
     "start_time": "2023-11-07T13:48:21.448468500Z"
    }
   },
   "id": "30decabfe528e954"
  },
  {
   "cell_type": "code",
   "execution_count": 20,
   "outputs": [
    {
     "name": "stdout",
     "output_type": "stream",
     "text": [
      "[[1. 1. 1. 1. 1. 0. 0. 1. 6. 0.]\n",
      " [1. 1. 1. 1. 1. 6. 0. 9. 2. 7.]\n",
      " [1. 1. 1. 9. 1. 2. 3. 9. 0. 5.]\n",
      " [1. 1. 1. 6. 1. 4. 9. 4. 4. 9.]\n",
      " [1. 1. 1. 1. 1. 7. 2. 8. 7. 2.]]\n"
     ]
    }
   ],
   "source": [
    "# Horizontal stack 2 matrix\n",
    "print(np.hstack((b,c)))"
   ],
   "metadata": {
    "collapsed": false,
    "ExecuteTime": {
     "end_time": "2023-11-07T13:50:01.913308800Z",
     "start_time": "2023-11-07T13:50:01.900363900Z"
    }
   },
   "id": "7d960816fbea5bc9"
  },
  {
   "cell_type": "code",
   "execution_count": 24,
   "outputs": [
    {
     "name": "stdout",
     "output_type": "stream",
     "text": [
      "b matrix is :\n",
      " [[1. 1. 1. 1. 1.]\n",
      " [1. 1. 1. 1. 1.]\n",
      " [1. 1. 1. 9. 1.]\n",
      " [1. 1. 1. 6. 1.]\n",
      " [1. 1. 1. 1. 1.]]\n",
      "c matrix is :\n",
      " [[0. 0. 1. 6. 0.]\n",
      " [6. 0. 9. 2. 7.]\n",
      " [2. 3. 9. 0. 5.]\n",
      " [4. 9. 4. 4. 9.]\n",
      " [7. 2. 8. 7. 2.]]\n",
      "----------------------\n",
      "the result of vertical stack is \n",
      " [[1. 1. 1. 1. 1.]\n",
      " [1. 1. 1. 1. 1.]\n",
      " [1. 1. 1. 9. 1.]\n",
      " [1. 1. 1. 6. 1.]\n",
      " [1. 1. 1. 1. 1.]\n",
      " [0. 0. 1. 6. 0.]\n",
      " [6. 0. 9. 2. 7.]\n",
      " [2. 3. 9. 0. 5.]\n",
      " [4. 9. 4. 4. 9.]\n",
      " [7. 2. 8. 7. 2.]]\n"
     ]
    }
   ],
   "source": [
    "# Vertical stack 2 matrix\n",
    "print(\"b matrix is :\\n\",b)\n",
    "print(\"c matrix is :\\n\",c)\n",
    "print(\"----------------------\")\n",
    "print('the result of vertical stack is \\n',np.vstack((b,c)))"
   ],
   "metadata": {
    "collapsed": false,
    "ExecuteTime": {
     "end_time": "2023-11-07T13:54:43.517423600Z",
     "start_time": "2023-11-07T13:54:43.501583100Z"
    }
   },
   "id": "c73d17f845082014"
  },
  {
   "cell_type": "code",
   "execution_count": 29,
   "outputs": [
    {
     "name": "stdout",
     "output_type": "stream",
     "text": [
      "matrix b is :\n",
      " [[1. 1. 1. 1. 1.]\n",
      " [1. 1. 1. 1. 1.]\n",
      " [1. 1. 1. 9. 1.]\n",
      " [1. 1. 1. 6. 1.]\n",
      " [1. 1. 1. 1. 1.]]\n",
      "matrix c is :\n",
      " [[0. 0. 1. 6. 0.]\n",
      " [6. 0. 9. 2. 7.]\n",
      " [2. 3. 9. 0. 5.]\n",
      " [4. 9. 4. 4. 9.]\n",
      " [7. 2. 8. 7. 2.]]\n"
     ]
    }
   ],
   "source": [
    "print(\"matrix b is :\\n\", b)\n",
    "print(\"matrix c is :\\n\", c)"
   ],
   "metadata": {
    "collapsed": false,
    "ExecuteTime": {
     "end_time": "2023-11-07T13:59:05.742845400Z",
     "start_time": "2023-11-07T13:59:05.726877Z"
    }
   },
   "id": "f6cb6460809d5cb4"
  },
  {
   "cell_type": "code",
   "execution_count": 25,
   "outputs": [
    {
     "name": "stdout",
     "output_type": "stream",
     "text": [
      "[[[1. 0.]\n",
      "  [1. 0.]\n",
      "  [1. 1.]\n",
      "  [1. 6.]\n",
      "  [1. 0.]]\n",
      "\n",
      " [[1. 6.]\n",
      "  [1. 0.]\n",
      "  [1. 9.]\n",
      "  [1. 2.]\n",
      "  [1. 7.]]\n",
      "\n",
      " [[1. 2.]\n",
      "  [1. 3.]\n",
      "  [1. 9.]\n",
      "  [9. 0.]\n",
      "  [1. 5.]]\n",
      "\n",
      " [[1. 4.]\n",
      "  [1. 9.]\n",
      "  [1. 4.]\n",
      "  [6. 4.]\n",
      "  [1. 9.]]\n",
      "\n",
      " [[1. 7.]\n",
      "  [1. 2.]\n",
      "  [1. 8.]\n",
      "  [1. 7.]\n",
      "  [1. 2.]]]\n"
     ]
    }
   ],
   "source": [
    "e=np.stack((b,c),axis=2)\n",
    "print(e)"
   ],
   "metadata": {
    "collapsed": false,
    "ExecuteTime": {
     "end_time": "2023-11-07T13:55:35.168769100Z",
     "start_time": "2023-11-07T13:55:35.125186400Z"
    }
   },
   "id": "a382e0b2dfe80bc9"
  },
  {
   "cell_type": "code",
   "execution_count": 26,
   "outputs": [
    {
     "name": "stdout",
     "output_type": "stream",
     "text": [
      "(5, 5, 2)\n"
     ]
    }
   ],
   "source": [
    "print(e.shape)"
   ],
   "metadata": {
    "collapsed": false,
    "ExecuteTime": {
     "end_time": "2023-11-07T13:55:57.310418400Z",
     "start_time": "2023-11-07T13:55:57.278724500Z"
    }
   },
   "id": "674ddb4328d585f8"
  },
  {
   "cell_type": "code",
   "execution_count": 27,
   "outputs": [
    {
     "name": "stdout",
     "output_type": "stream",
     "text": [
      "[[[1. 1. 1. 1. 1.]\n",
      "  [0. 0. 1. 6. 0.]]\n",
      "\n",
      " [[1. 1. 1. 1. 1.]\n",
      "  [6. 0. 9. 2. 7.]]\n",
      "\n",
      " [[1. 1. 1. 9. 1.]\n",
      "  [2. 3. 9. 0. 5.]]\n",
      "\n",
      " [[1. 1. 1. 6. 1.]\n",
      "  [4. 9. 4. 4. 9.]]\n",
      "\n",
      " [[1. 1. 1. 1. 1.]\n",
      "  [7. 2. 8. 7. 2.]]]\n",
      "(5, 2, 5)\n"
     ]
    }
   ],
   "source": [
    "\n",
    "f=np.stack((b,c),axis=1)\n",
    "print(f)\n",
    "print(f.shape)"
   ],
   "metadata": {
    "collapsed": false,
    "ExecuteTime": {
     "end_time": "2023-11-07T13:57:00.583818700Z",
     "start_time": "2023-11-07T13:57:00.573670300Z"
    }
   },
   "id": "463e9733c6eb199d"
  },
  {
   "cell_type": "code",
   "execution_count": 30,
   "outputs": [
    {
     "name": "stdout",
     "output_type": "stream",
     "text": [
      "[  1   8  15  22  29  36  43  50  57  64  71  78  85  92  99 106]\n"
     ]
    }
   ],
   "source": [
    "g = np.arange(1,110,7)\n",
    "print(g)"
   ],
   "metadata": {
    "collapsed": false,
    "ExecuteTime": {
     "end_time": "2023-11-07T14:00:29.550758500Z",
     "start_time": "2023-11-07T14:00:29.480223700Z"
    }
   },
   "id": "5731ca4142280672"
  },
  {
   "cell_type": "code",
   "execution_count": 31,
   "outputs": [
    {
     "name": "stdout",
     "output_type": "stream",
     "text": [
      "[[54.84544443 55.32918087 54.99898358 54.39308855]\n",
      " [53.98578658 54.82051275 55.97039553 56.73152222]\n",
      " [54.04064733 54.90475563 54.01148919 55.72064656]]\n"
     ]
    }
   ],
   "source": [
    "# normal distribution\n",
    "j = np.random.normal(55,1,(3,4))\n",
    "# the element is more likely to be close to fifty-five\n",
    "print(j)"
   ],
   "metadata": {
    "collapsed": false,
    "ExecuteTime": {
     "end_time": "2023-11-07T14:01:33.548688400Z",
     "start_time": "2023-11-07T14:01:33.501240100Z"
    }
   },
   "id": "e7814cdf648f4cc5"
  },
  {
   "cell_type": "code",
   "execution_count": 32,
   "outputs": [
    {
     "name": "stdout",
     "output_type": "stream",
     "text": [
      "[[54.8 55.3 55.  54.4]\n",
      " [54.  54.8 56.  56.7]\n",
      " [54.  54.9 54.  55.7]]\n"
     ]
    }
   ],
   "source": [
    "print(np.round(j,1))"
   ],
   "metadata": {
    "collapsed": false,
    "ExecuteTime": {
     "end_time": "2023-11-07T14:02:06.870580Z",
     "start_time": "2023-11-07T14:02:06.866071800Z"
    }
   },
   "id": "3aceae6c7a332716"
  },
  {
   "cell_type": "code",
   "execution_count": 33,
   "outputs": [
    {
     "name": "stdout",
     "output_type": "stream",
     "text": [
      "[[54.85 55.33 55.   54.39]\n",
      " [53.99 54.82 55.97 56.73]\n",
      " [54.04 54.9  54.01 55.72]]\n"
     ]
    }
   ],
   "source": [
    "print(np.round(j,2))"
   ],
   "metadata": {
    "collapsed": false,
    "ExecuteTime": {
     "end_time": "2023-11-07T14:02:21.002933300Z",
     "start_time": "2023-11-07T14:02:20.971448500Z"
    }
   },
   "id": "1bfb9f940dfadc9c"
  },
  {
   "cell_type": "code",
   "execution_count": 34,
   "outputs": [
    {
     "name": "stdout",
     "output_type": "stream",
     "text": [
      "[[54.845 55.329 54.999 54.393]\n",
      " [53.986 54.821 55.97  56.732]\n",
      " [54.041 54.905 54.011 55.721]]\n"
     ]
    }
   ],
   "source": [
    "print(np.round(j,3))"
   ],
   "metadata": {
    "collapsed": false,
    "ExecuteTime": {
     "end_time": "2023-11-07T14:02:32.125011200Z",
     "start_time": "2023-11-07T14:02:32.108893900Z"
    }
   },
   "id": "2464b945c0307071"
  },
  {
   "cell_type": "code",
   "execution_count": 35,
   "outputs": [
    {
     "name": "stdout",
     "output_type": "stream",
     "text": [
      "[[50. 60. 50. 50.]\n",
      " [50. 50. 60. 60.]\n",
      " [50. 50. 50. 60.]]\n"
     ]
    }
   ],
   "source": [
    "print(np.round(j,-1))"
   ],
   "metadata": {
    "collapsed": false,
    "ExecuteTime": {
     "end_time": "2023-11-07T14:02:41.930247800Z",
     "start_time": "2023-11-07T14:02:41.883291400Z"
    }
   },
   "id": "cedc91235fc7aa65"
  },
  {
   "cell_type": "code",
   "execution_count": 36,
   "outputs": [
    {
     "name": "stdout",
     "output_type": "stream",
     "text": [
      "53.985786580249275\n"
     ]
    }
   ],
   "source": [
    "print(np.min(j))"
   ],
   "metadata": {
    "collapsed": false,
    "ExecuteTime": {
     "end_time": "2023-11-07T14:03:06.422742600Z",
     "start_time": "2023-11-07T14:03:06.380740800Z"
    }
   },
   "id": "9071ff8f9166da7c"
  },
  {
   "cell_type": "code",
   "execution_count": 37,
   "outputs": [
    {
     "name": "stdout",
     "output_type": "stream",
     "text": [
      "56.73152221867863\n"
     ]
    }
   ],
   "source": [
    "print(np.max(j))"
   ],
   "metadata": {
    "collapsed": false,
    "ExecuteTime": {
     "end_time": "2023-11-07T14:03:20.064255100Z",
     "start_time": "2023-11-07T14:03:19.985224100Z"
    }
   },
   "id": "7fb44622c205d514"
  },
  {
   "cell_type": "code",
   "execution_count": 38,
   "outputs": [
    {
     "name": "stdout",
     "output_type": "stream",
     "text": [
      "659.7524532254889\n"
     ]
    }
   ],
   "source": [
    "print(np.sum(j))"
   ],
   "metadata": {
    "collapsed": false,
    "ExecuteTime": {
     "end_time": "2023-11-07T14:03:33.191957Z",
     "start_time": "2023-11-07T14:03:33.160553100Z"
    }
   },
   "id": "4f11839a81a716ed"
  },
  {
   "cell_type": "code",
   "execution_count": 39,
   "outputs": [
    {
     "name": "stdout",
     "output_type": "stream",
     "text": [
      "54.97937110212408\n"
     ]
    }
   ],
   "source": [
    "print(np.mean(j))"
   ],
   "metadata": {
    "collapsed": false,
    "ExecuteTime": {
     "end_time": "2023-11-07T14:03:41.247361300Z",
     "start_time": "2023-11-07T14:03:41.231295900Z"
    }
   },
   "id": "1e92a1f3e0fdb540"
  },
  {
   "cell_type": "code",
   "execution_count": 40,
   "outputs": [
    {
     "name": "stdout",
     "output_type": "stream",
     "text": [
      "54.87510002973528\n"
     ]
    }
   ],
   "source": [
    "print(np.median(j))"
   ],
   "metadata": {
    "collapsed": false,
    "ExecuteTime": {
     "end_time": "2023-11-07T14:03:50.927381800Z",
     "start_time": "2023-11-07T14:03:50.897779100Z"
    }
   },
   "id": "2804eb6082157100"
  },
  {
   "cell_type": "code",
   "execution_count": 41,
   "outputs": [
    {
     "name": "stdout",
     "output_type": "stream",
     "text": [
      "[54.84544443 55.32918087 55.97039553 56.73152222]\n"
     ]
    }
   ],
   "source": [
    "print(np.max(j,axis=0))\n",
    "# axis = 1 is for column"
   ],
   "metadata": {
    "collapsed": false,
    "ExecuteTime": {
     "end_time": "2023-11-07T14:04:33.756172700Z",
     "start_time": "2023-11-07T14:04:33.724907900Z"
    }
   },
   "id": "7d33a085fe411463"
  },
  {
   "cell_type": "code",
   "execution_count": 42,
   "outputs": [
    {
     "name": "stdout",
     "output_type": "stream",
     "text": [
      "[55.32918087 56.73152222 55.72064656]\n"
     ]
    }
   ],
   "source": [
    "print(np.max(j,axis=1))\n",
    "# axis = 1 is for line "
   ],
   "metadata": {
    "collapsed": false,
    "ExecuteTime": {
     "end_time": "2023-11-07T14:04:45.541532900Z",
     "start_time": "2023-11-07T14:04:45.525589Z"
    }
   },
   "id": "712cbde2c97814a2"
  },
  {
   "cell_type": "code",
   "execution_count": 43,
   "outputs": [
    {
     "name": "stdout",
     "output_type": "stream",
     "text": [
      "[162.87187834 165.05444925 164.98086831 166.84525733]\n"
     ]
    }
   ],
   "source": [
    "print(np.sum(j,axis=0))"
   ],
   "metadata": {
    "collapsed": false,
    "ExecuteTime": {
     "end_time": "2023-11-07T14:05:01.592527700Z",
     "start_time": "2023-11-07T14:05:01.539294500Z"
    }
   },
   "id": "c226970b8ef61558"
  },
  {
   "cell_type": "code",
   "execution_count": 44,
   "outputs": [
    {
     "name": "stdout",
     "output_type": "stream",
     "text": [
      "[219.56669744 221.50821708 218.6775387 ]\n"
     ]
    }
   ],
   "source": [
    "print(np.sum(j,axis=1))"
   ],
   "metadata": {
    "collapsed": false,
    "ExecuteTime": {
     "end_time": "2023-11-07T14:05:09.134770Z",
     "start_time": "2023-11-07T14:05:09.116992600Z"
    }
   },
   "id": "5f19f98d4122193d"
  },
  {
   "cell_type": "code",
   "execution_count": null,
   "outputs": [],
   "source": [],
   "metadata": {
    "collapsed": false
   },
   "id": "600ba9ff59bf7b04"
  }
 ],
 "metadata": {
  "kernelspec": {
   "display_name": "Python 3",
   "language": "python",
   "name": "python3"
  },
  "language_info": {
   "codemirror_mode": {
    "name": "ipython",
    "version": 2
   },
   "file_extension": ".py",
   "mimetype": "text/x-python",
   "name": "python",
   "nbconvert_exporter": "python",
   "pygments_lexer": "ipython2",
   "version": "2.7.6"
  }
 },
 "nbformat": 4,
 "nbformat_minor": 5
}
